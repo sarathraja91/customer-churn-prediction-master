{
 "cells": [
  {
   "cell_type": "code",
   "execution_count": 1,
   "metadata": {},
   "outputs": [],
   "source": [
    "# Setting the environment variables"
   ]
  },
  {
   "cell_type": "code",
   "execution_count": 2,
   "metadata": {},
   "outputs": [],
   "source": [
    "import os\n",
    "import sys\n",
    "os.environ[\"PYSPARK_PYTHON\"]=\"/usr/bin/python3\"\n",
    "os.environ[\"PYSPARK_DRIVER_PYTHON\"]=\"/usr/bin/python3\"\n",
    "os.environ[\"PYSPARK_DRIVER_PYTHON_OPTS\"]=\"notebook --no-browser\"\n",
    "os.environ[\"JAVA_HOME\"] = \"/usr/java/jdk1.8.0_161/jre\"\n",
    "os.environ[\"SPARK_HOME\"] = \"/home/ec2-user/spark-2.4.4-bin-hadoop2.7\"\n",
    "os.environ[\"PYLIB\"] = os.environ[\"SPARK_HOME\"] + \"/python/lib\"\n",
    "sys.path.insert(0, os.environ[\"PYLIB\"] + \"/py4j-0.10.7-src.zip\")\n",
    "sys.path.insert(0, os.environ[\"PYLIB\"] + \"/pyspark.zip\")"
   ]
  },
  {
   "cell_type": "markdown",
   "metadata": {},
   "source": [
    "# Ecommerce Churn Assignment"
   ]
  },
  {
   "cell_type": "markdown",
   "metadata": {},
   "source": [
    "The aim of the assignment is to build a model that predicts whether a person purchases an item after it has been added to the cart or not. Being a classification problem, you are expected to use your understanding of all the three models covered till now. You must select the most robust model and provide a solution that predicts the churn in the most suitable manner. \n",
    "\n",
    "For this assignment, you are provided the data associated with an e-commerce company for the month of October 2019. Your task is to first analyse the data, and then perform multiple steps towards the model building process.\n",
    "\n",
    "The broad tasks are:\n",
    "- Data Exploration\n",
    "- Feature Engineering\n",
    "- Model Selection\n",
    "- Model Inference"
   ]
  },
  {
   "cell_type": "markdown",
   "metadata": {},
   "source": [
    "### Data description"
   ]
  },
  {
   "cell_type": "markdown",
   "metadata": {},
   "source": [
    "The dataset stores the information of a customer session on the e-commerce platform. It records the activity and the associated parameters with it.\n",
    "\n",
    "- **event_time**: Date and time when user accesses the platform\n",
    "- **event_type**: Action performed by the customer\n",
    "            - View\n",
    "            - Cart\n",
    "            - Purchase\n",
    "            - Remove from cart\n",
    "- **product_id**: Unique number to identify the product in the event\n",
    "- **category_id**: Unique number to identify the category of the product\n",
    "- **category_code**: Stores primary and secondary categories of the product\n",
    "- **brand**: Brand associated with the product\n",
    "- **price**: Price of the product\n",
    "- **user_id**: Unique ID for a customer\n",
    "- **user_session**: Session ID for a user\n"
   ]
  },
  {
   "cell_type": "markdown",
   "metadata": {},
   "source": [
    "### Initialising the SparkSession"
   ]
  },
  {
   "cell_type": "markdown",
   "metadata": {},
   "source": [
    "The dataset provided is 5 GBs in size. Therefore, it is expected that you increase the driver memory to a greater number. You can refer to notebook 1 for the steps involved here."
   ]
  },
  {
   "cell_type": "code",
   "execution_count": 3,
   "metadata": {},
   "outputs": [],
   "source": [
    "# Loading the clean data\n",
    "# initialising the session with 14 GB driver memory\n",
    "MAX_MEMORY = \"14g\"\n",
    "from pyspark.sql import SparkSession\n",
    "spark = SparkSession.builder.appName('RF').config(\"spark.driver.memory\", MAX_MEMORY).getOrCreate()"
   ]
  },
  {
   "cell_type": "code",
   "execution_count": 4,
   "metadata": {},
   "outputs": [],
   "source": [
    "# installing required libraries\n",
    "from pyspark.ml.classification import RandomForestClassifier\n",
    "from pyspark.ml.tuning import ParamGridBuilder, CrossValidator\n",
    "from pyspark.ml.evaluation import BinaryClassificationEvaluator\n",
    "from pyspark.mllib.evaluation import BinaryClassificationMetrics\n",
    "from pyspark.mllib.evaluation import MulticlassMetrics"
   ]
  },
  {
   "cell_type": "code",
   "execution_count": 5,
   "metadata": {},
   "outputs": [],
   "source": [
    "# loading the dataset from the parquet file\n",
    "df = spark.read.parquet(\"processed.parquet\")"
   ]
  },
  {
   "cell_type": "code",
   "execution_count": 6,
   "metadata": {},
   "outputs": [],
   "source": [
    "df = df.withColumnRenamed(\"is_purchased\",\"label\")"
   ]
  },
  {
   "cell_type": "code",
   "execution_count": 7,
   "metadata": {},
   "outputs": [],
   "source": [
    "from pyspark.sql.types import DoubleType\n",
    "\n",
    "df = df.withColumn(\"label\", df[\"label\"].cast(DoubleType()))"
   ]
  },
  {
   "cell_type": "code",
   "execution_count": 8,
   "metadata": {},
   "outputs": [
    {
     "name": "stdout",
     "output_type": "stream",
     "text": [
      "+-------+------+-----------+-----------+-------------+-----------+--------------------+---------------------+---------+-----+\n",
      "|  brand| price|   Category|SubCategory|ActivityCount|ProductView|SubCategoryViewCount|AvgSpendingOnCategoty|EventHour|label|\n",
      "+-------+------+-----------+-----------+-------------+-----------+--------------------+---------------------+---------+-----+\n",
      "|samsung|131.51|electronics| smartphone|            3|          1|                   1|    464.3354680388794|        9|  1.0|\n",
      "|  apple|460.11|electronics| smartphone|            8|          2|                   5|    464.3354680388794|       13|  1.0|\n",
      "|samsung|287.63|electronics| smartphone|            9|          4|                  36|    464.3354680388794|       12|  1.0|\n",
      "|samsung|224.96|electronics| smartphone|            7|          6|                  15|    464.3354680388794|       15|  0.0|\n",
      "|  apple|975.56|electronics| smartphone|            7|          3|                   3|    464.3354680388794|       12|  0.0|\n",
      "+-------+------+-----------+-----------+-------------+-----------+--------------------+---------------------+---------+-----+\n",
      "only showing top 5 rows\n",
      "\n"
     ]
    }
   ],
   "source": [
    "# Check if the dataframe is correctly loaded\n",
    "df.show(5)"
   ]
  },
  {
   "cell_type": "code",
   "execution_count": 9,
   "metadata": {},
   "outputs": [
    {
     "data": {
      "text/plain": [
       "StructType(List(StructField(brand,StringType,true),StructField(price,DoubleType,true),StructField(Category,StringType,true),StructField(SubCategory,StringType,true),StructField(ActivityCount,LongType,true),StructField(ProductView,LongType,true),StructField(SubCategoryViewCount,LongType,true),StructField(AvgSpendingOnCategoty,DoubleType,true),StructField(EventHour,IntegerType,true),StructField(label,DoubleType,true)))"
      ]
     },
     "execution_count": 9,
     "metadata": {},
     "output_type": "execute_result"
    }
   ],
   "source": [
    "# exploring the dataframe - schema\n",
    "df.schema"
   ]
  },
  {
   "cell_type": "code",
   "execution_count": 10,
   "metadata": {},
   "outputs": [
    {
     "name": "stdout",
     "output_type": "stream",
     "text": [
      "784361 10\n"
     ]
    }
   ],
   "source": [
    "# Number of rows and columns in the dataset\n",
    "print(df.count(), len(df.columns))"
   ]
  },
  {
   "cell_type": "markdown",
   "metadata": {},
   "source": [
    "## Task 3: Model Selection\n",
    "3 models for classification:\t\n",
    "- Logistic Regression\n",
    "- Decision Tree\n",
    "- Random Forest"
   ]
  },
  {
   "cell_type": "markdown",
   "metadata": {},
   "source": [
    "### Model 3: Random Forest"
   ]
  },
  {
   "cell_type": "code",
   "execution_count": 11,
   "metadata": {},
   "outputs": [],
   "source": [
    "# Additional steps for Decision Trees, if any\n"
   ]
  },
  {
   "cell_type": "code",
   "execution_count": null,
   "metadata": {},
   "outputs": [],
   "source": []
  },
  {
   "cell_type": "markdown",
   "metadata": {},
   "source": [
    "#### Feature Transformation (Code will be same; check for the columns)"
   ]
  },
  {
   "cell_type": "code",
   "execution_count": 12,
   "metadata": {},
   "outputs": [
    {
     "data": {
      "text/plain": [
       "['brand',\n",
       " 'price',\n",
       " 'Category',\n",
       " 'SubCategory',\n",
       " 'ActivityCount',\n",
       " 'ProductView',\n",
       " 'SubCategoryViewCount',\n",
       " 'AvgSpendingOnCategoty',\n",
       " 'EventHour',\n",
       " 'label']"
      ]
     },
     "execution_count": 12,
     "metadata": {},
     "output_type": "execute_result"
    }
   ],
   "source": [
    "# Check if only the required columns are present to build the model\n",
    "# If not, drop the redundant columns\n",
    "df.columns"
   ]
  },
  {
   "cell_type": "code",
   "execution_count": 13,
   "metadata": {},
   "outputs": [],
   "source": [
    "# Categorising the attributes into its type - Continuous and Categorical\n",
    "from pyspark.ml.feature import Bucketizer\n",
    "from pyspark.sql.types import IntegerType\n",
    "bucketizer = Bucketizer(splits=[ 0, 6, 12, 18 , 24, float('Inf') ], inputCol=\"EventHour\", outputCol=\"EventHour_Buckets\")\n",
    "df = bucketizer.setHandleInvalid(\"keep\").transform(df)\n",
    "df = df.withColumn(\"EventHour_Buckets\", df[\"EventHour_Buckets\"].cast(IntegerType()))"
   ]
  },
  {
   "cell_type": "code",
   "execution_count": 14,
   "metadata": {},
   "outputs": [],
   "source": [
    "from pyspark.ml.feature import StringIndexer\n",
    "from pyspark.ml.feature import OneHotEncoderEstimator\n",
    "from pyspark.ml.feature import VectorAssembler\n",
    "from pyspark.ml import Pipeline"
   ]
  },
  {
   "cell_type": "code",
   "execution_count": 15,
   "metadata": {},
   "outputs": [],
   "source": [
    "# Feature transformation for categorical features\n",
    "brand_indexr = StringIndexer(inputCol='brand',   outputCol='brand_idx')   \n",
    "category_indexr = StringIndexer(inputCol='Category',   outputCol='Category_idx') \n",
    "subCat_indexr = StringIndexer(inputCol='SubCategory',   outputCol='SubCategory_idx') \n",
    "one_hot_encoder = OneHotEncoderEstimator(inputCols=['brand_idx', 'Category_idx', 'SubCategory_idx'],\n",
    "                             outputCols=['brand_Enc', 'Category_enc', 'SubCategory_enc'])"
   ]
  },
  {
   "cell_type": "code",
   "execution_count": 16,
   "metadata": {},
   "outputs": [],
   "source": [
    "# Vector assembler to combine all the features\n",
    "assembler = VectorAssembler(inputCols=['brand_Enc' ,'Category_enc', 'SubCategory_enc', 'price',\"ActivityCount\", \"ProductView\", \"SubCategoryViewCount\", \"EventHour_Buckets\", \"AvgSpendingOnCategoty\"],\n",
    "                            outputCol=\"features\")"
   ]
  },
  {
   "cell_type": "code",
   "execution_count": 17,
   "metadata": {},
   "outputs": [],
   "source": [
    "# Pipeline for the tasks\n",
    "# Pipeline for the tasks\n",
    "pipeline = Pipeline(stages=[brand_indexr,category_indexr,subCat_indexr, one_hot_encoder, assembler])"
   ]
  },
  {
   "cell_type": "code",
   "execution_count": 18,
   "metadata": {},
   "outputs": [],
   "source": [
    "# Transforming the dataframe df\n",
    "df = pipeline.fit(df).transform(df)"
   ]
  },
  {
   "cell_type": "code",
   "execution_count": 19,
   "metadata": {},
   "outputs": [
    {
     "name": "stdout",
     "output_type": "stream",
     "text": [
      "root\n",
      " |-- brand: string (nullable = true)\n",
      " |-- price: double (nullable = true)\n",
      " |-- Category: string (nullable = true)\n",
      " |-- SubCategory: string (nullable = true)\n",
      " |-- ActivityCount: long (nullable = true)\n",
      " |-- ProductView: long (nullable = true)\n",
      " |-- SubCategoryViewCount: long (nullable = true)\n",
      " |-- AvgSpendingOnCategoty: double (nullable = true)\n",
      " |-- EventHour: integer (nullable = true)\n",
      " |-- label: double (nullable = true)\n",
      " |-- EventHour_Buckets: integer (nullable = true)\n",
      " |-- brand_idx: double (nullable = false)\n",
      " |-- Category_idx: double (nullable = false)\n",
      " |-- SubCategory_idx: double (nullable = false)\n",
      " |-- brand_Enc: vector (nullable = true)\n",
      " |-- Category_enc: vector (nullable = true)\n",
      " |-- SubCategory_enc: vector (nullable = true)\n",
      " |-- features: vector (nullable = true)\n",
      "\n"
     ]
    }
   ],
   "source": [
    "# Schema of the transformed df\n",
    "df.printSchema()"
   ]
  },
  {
   "cell_type": "code",
   "execution_count": 20,
   "metadata": {},
   "outputs": [
    {
     "name": "stdout",
     "output_type": "stream",
     "text": [
      "+-------+-------+-----------+-----------+-------------+-----------+--------------------+---------------------+---------+-----+-----------------+---------+------------+---------------+---------------+--------------+---------------+--------------------+\n",
      "|  brand|  price|   Category|SubCategory|ActivityCount|ProductView|SubCategoryViewCount|AvgSpendingOnCategoty|EventHour|label|EventHour_Buckets|brand_idx|Category_idx|SubCategory_idx|      brand_Enc|  Category_enc|SubCategory_enc|            features|\n",
      "+-------+-------+-----------+-----------+-------------+-----------+--------------------+---------------------+---------+-----+-----------------+---------+------------+---------------+---------------+--------------+---------------+--------------------+\n",
      "|samsung| 131.51|electronics| smartphone|            3|          1|                   1|    464.3354680388794|        9|  1.0|                1|      0.0|         0.0|            0.0| (20,[0],[1.0])|(12,[0],[1.0])| (37,[0],[1.0])|(75,[0,20,32,69,7...|\n",
      "|  apple| 460.11|electronics| smartphone|            8|          2|                   5|    464.3354680388794|       13|  1.0|                2|      1.0|         0.0|            0.0| (20,[1],[1.0])|(12,[0],[1.0])| (37,[0],[1.0])|(75,[1,20,32,69,7...|\n",
      "|samsung| 287.63|electronics| smartphone|            9|          4|                  36|    464.3354680388794|       12|  1.0|                2|      0.0|         0.0|            0.0| (20,[0],[1.0])|(12,[0],[1.0])| (37,[0],[1.0])|(75,[0,20,32,69,7...|\n",
      "|samsung| 224.96|electronics| smartphone|            7|          6|                  15|    464.3354680388794|       15|  0.0|                2|      0.0|         0.0|            0.0| (20,[0],[1.0])|(12,[0],[1.0])| (37,[0],[1.0])|(75,[0,20,32,69,7...|\n",
      "|  apple| 975.56|electronics| smartphone|            7|          3|                   3|    464.3354680388794|       12|  0.0|                2|      1.0|         0.0|            0.0| (20,[1],[1.0])|(12,[0],[1.0])| (37,[0],[1.0])|(75,[1,20,32,69,7...|\n",
      "|  haier| 527.39| appliances|    kitchen|            2|          1|                   1|   216.78232493178572|       10|  0.0|                1|     10.0|         1.0|            1.0|(20,[10],[1.0])|(12,[1],[1.0])| (37,[1],[1.0])|(75,[10,21,33,69,...|\n",
      "|  apple|  190.2|electronics|      audio|            5|          2|                  17|   117.06883466566995|        6|  1.0|                1|      1.0|         0.0|            2.0| (20,[1],[1.0])|(12,[0],[1.0])| (37,[2],[1.0])|(75,[1,20,34,69,7...|\n",
      "| others|  53.72|electronics|  telephone|            4|          1|                   1|    33.91627645325484|       12|  0.0|                2|      3.0|         0.0|           11.0| (20,[3],[1.0])|(12,[0],[1.0])|(37,[11],[1.0])|(75,[3,20,43,69,7...|\n",
      "| others|  53.72|electronics|  telephone|            4|          1|                   1|    33.91627645325484|       12|  0.0|                2|      3.0|         0.0|           11.0| (20,[3],[1.0])|(12,[0],[1.0])|(37,[11],[1.0])|(75,[3,20,43,69,7...|\n",
      "| others|  53.72|electronics|  telephone|            4|          1|                   1|    33.91627645325484|       12|  0.0|                2|      3.0|         0.0|           11.0| (20,[3],[1.0])|(12,[0],[1.0])|(37,[11],[1.0])|(75,[3,20,43,69,7...|\n",
      "|samsung|  369.2|electronics| smartphone|            5|          5|                  27|    464.3354680388794|        9|  1.0|                1|      0.0|         0.0|            0.0| (20,[0],[1.0])|(12,[0],[1.0])| (37,[0],[1.0])|(75,[0,20,32,69,7...|\n",
      "|  apple|  159.8|electronics|      audio|           13|         12|                  16|   117.06883466566995|       12|  0.0|                2|      1.0|         0.0|            2.0| (20,[1],[1.0])|(12,[0],[1.0])| (37,[2],[1.0])|(75,[1,20,34,69,7...|\n",
      "|  apple|1415.48|electronics| smartphone|            7|          2|                   6|    464.3354680388794|        1|  0.0|                0|      1.0|         0.0|            0.0| (20,[1],[1.0])|(12,[0],[1.0])| (37,[0],[1.0])|(75,[1,20,32,69,7...|\n",
      "| others| 1044.4|electronics|     clocks|            7|          8|                  37|    279.2286673876517|       13|  0.0|                2|      3.0|         0.0|            5.0| (20,[3],[1.0])|(12,[0],[1.0])| (37,[5],[1.0])|(75,[3,20,37,69,7...|\n",
      "| others| 1044.4|electronics|     clocks|            7|          8|                  37|    279.2286673876517|       13|  0.0|                2|      3.0|         0.0|            5.0| (20,[3],[1.0])|(12,[0],[1.0])| (37,[5],[1.0])|(75,[3,20,37,69,7...|\n",
      "|samsung| 371.67|electronics| smartphone|            5|          7|                  94|    464.3354680388794|        9|  1.0|                1|      0.0|         0.0|            0.0| (20,[0],[1.0])|(12,[0],[1.0])| (37,[0],[1.0])|(75,[0,20,32,69,7...|\n",
      "|samsung| 371.67|electronics| smartphone|            5|          7|                  94|    464.3354680388794|        9|  1.0|                1|      0.0|         0.0|            0.0| (20,[0],[1.0])|(12,[0],[1.0])| (37,[0],[1.0])|(75,[0,20,32,69,7...|\n",
      "|  apple| 161.87|electronics|      audio|            3|         14|                  14|   117.06883466566995|       16|  0.0|                2|      1.0|         0.0|            2.0| (20,[1],[1.0])|(12,[0],[1.0])| (37,[2],[1.0])|(75,[1,20,34,69,7...|\n",
      "|samsung| 130.99|electronics| smartphone|            5|          3|                   3|    464.3354680388794|       12|  1.0|                2|      0.0|         0.0|            0.0| (20,[0],[1.0])|(12,[0],[1.0])| (37,[0],[1.0])|(75,[0,20,32,69,7...|\n",
      "|samsung| 251.47|electronics| smartphone|           31|         11|                  27|    464.3354680388794|        4|  0.0|                0|      0.0|         0.0|            0.0| (20,[0],[1.0])|(12,[0],[1.0])| (37,[0],[1.0])|(75,[0,20,32,69,7...|\n",
      "+-------+-------+-----------+-----------+-------------+-----------+--------------------+---------------------+---------+-----+-----------------+---------+------------+---------------+---------------+--------------+---------------+--------------------+\n",
      "only showing top 20 rows\n",
      "\n"
     ]
    }
   ],
   "source": [
    "# Checking the elements of the transformed df - Top 20 rows\n",
    "df.show(20)"
   ]
  },
  {
   "cell_type": "code",
   "execution_count": 21,
   "metadata": {},
   "outputs": [],
   "source": [
    "# Storing the transformed df in S3 bucket to prevent repetition of steps again\n",
    "df.write.csv('s3://ml2bucketcs/processed_DT.csv', header=True)"
   ]
  },
  {
   "cell_type": "markdown",
   "metadata": {},
   "source": [
    "#### Train-test split"
   ]
  },
  {
   "cell_type": "code",
   "execution_count": 22,
   "metadata": {},
   "outputs": [],
   "source": [
    "# Splitting the data into train and test (Remember you are expected to compare the model later)\n",
    "train, test = df.randomSplit([0.7,0.3], seed=5043)"
   ]
  },
  {
   "cell_type": "code",
   "execution_count": 23,
   "metadata": {},
   "outputs": [
    {
     "name": "stdout",
     "output_type": "stream",
     "text": [
      "549086 235275\n"
     ]
    }
   ],
   "source": [
    "# Number of rows in train and test data\n",
    "print(train.count(), test.count())"
   ]
  },
  {
   "cell_type": "markdown",
   "metadata": {},
   "source": [
    "#### Model Fitting"
   ]
  },
  {
   "cell_type": "code",
   "execution_count": 24,
   "metadata": {},
   "outputs": [],
   "source": [
    "# Building the model with hyperparameter tuning\n",
    "rf = RandomForestClassifier(labelCol=\"label\", featuresCol=\"features\")\n",
    "# Create ParamGrid for Cross Validation\n",
    "rfparamGrid = (ParamGridBuilder()\n",
    "               .addGrid(rf.maxDepth, [10, 15, 30])\n",
    "               .addGrid(rf.maxBins, [20, 40, 60])\n",
    "               .addGrid(rf.numTrees, [4, 8, 20])\n",
    "             .build())"
   ]
  },
  {
   "cell_type": "code",
   "execution_count": 25,
   "metadata": {},
   "outputs": [],
   "source": [
    "# Run cross-validation steps\n",
    "rfevaluator = BinaryClassificationEvaluator()\n",
    "rfcv = CrossValidator(estimator = rf,\n",
    "                      estimatorParamMaps = rfparamGrid,\n",
    "                      evaluator = rfevaluator,\n",
    "                      numFolds = 4)"
   ]
  },
  {
   "cell_type": "code",
   "execution_count": 26,
   "metadata": {},
   "outputs": [],
   "source": [
    "# Fitting the models on transformed df\n",
    "rfcvModel = rfcv.fit(train)"
   ]
  },
  {
   "cell_type": "code",
   "execution_count": 27,
   "metadata": {},
   "outputs": [],
   "source": [
    "# Best model from the results of cross-validation\n",
    "bestModel = rfcvModel.bestModel"
   ]
  },
  {
   "cell_type": "markdown",
   "metadata": {},
   "source": [
    "#### Model Analysis"
   ]
  },
  {
   "cell_type": "markdown",
   "metadata": {},
   "source": [
    "Required Steps:\n",
    "- Fit on test data\n",
    "- Performance analysis\n",
    "    - Appropriate Metric with reasoning"
   ]
  },
  {
   "cell_type": "code",
   "execution_count": 28,
   "metadata": {},
   "outputs": [],
   "source": [
    "rfpredictions = bestModel.transform(test)"
   ]
  },
  {
   "cell_type": "code",
   "execution_count": 29,
   "metadata": {},
   "outputs": [
    {
     "name": "stdout",
     "output_type": "stream",
     "text": [
      "Accuracy: 0.663964610685404\n"
     ]
    }
   ],
   "source": [
    "print('Accuracy:', rfevaluator.evaluate(rfpredictions))"
   ]
  },
  {
   "cell_type": "code",
   "execution_count": 30,
   "metadata": {},
   "outputs": [
    {
     "name": "stdout",
     "output_type": "stream",
     "text": [
      "AUC: 0.6361855408437769\n"
     ]
    }
   ],
   "source": [
    "print('AUC:', BinaryClassificationMetrics(rfpredictions['label','prediction'].rdd).areaUnderROC)"
   ]
  },
  {
   "cell_type": "markdown",
   "metadata": {},
   "source": [
    "#### Summary of the best Random Forest model"
   ]
  },
  {
   "cell_type": "code",
   "execution_count": 31,
   "metadata": {},
   "outputs": [],
   "source": [
    "def confusion_matrix(pred_df):\n",
    "    rdd = pred_df.select(['prediction', 'label']).rdd.map(tuple)\n",
    "    metrics = MulticlassMetrics(rdd)\n",
    "    return metrics.confusionMatrix().toArray()"
   ]
  },
  {
   "cell_type": "code",
   "execution_count": 32,
   "metadata": {},
   "outputs": [
    {
     "name": "stdout",
     "output_type": "stream",
     "text": [
      "[[46286. 66905.]\n",
      " [22391. 99693.]]\n"
     ]
    }
   ],
   "source": [
    "print(confusion_matrix(rfpredictions))"
   ]
  },
  {
   "cell_type": "code",
   "execution_count": 33,
   "metadata": {},
   "outputs": [],
   "source": [
    "import pandas as pd\n",
    "def ExtractFeatureImp(featureImp, dataset, featuresCol):\n",
    "    list_extract = []\n",
    "    for i in dataset.schema[featuresCol].metadata[\"ml_attr\"][\"attrs\"]:\n",
    "        list_extract = list_extract + dataset.schema[featuresCol].metadata[\"ml_attr\"][\"attrs\"][i]\n",
    "    varlist = pd.DataFrame(list_extract)\n",
    "    varlist['score'] = varlist['idx'].apply(lambda x: featureImp[x])\n",
    "    return(varlist.sort_values('score', ascending = False))"
   ]
  },
  {
   "cell_type": "code",
   "execution_count": 37,
   "metadata": {},
   "outputs": [],
   "source": [
    "RFfi = ExtractFeatureImp(bestModel.featureImportances, df, \"features\").head(10)"
   ]
  },
  {
   "cell_type": "code",
   "execution_count": 38,
   "metadata": {},
   "outputs": [
    {
     "data": {
      "text/html": [
       "<div>\n",
       "<style scoped>\n",
       "    .dataframe tbody tr th:only-of-type {\n",
       "        vertical-align: middle;\n",
       "    }\n",
       "\n",
       "    .dataframe tbody tr th {\n",
       "        vertical-align: top;\n",
       "    }\n",
       "\n",
       "    .dataframe thead th {\n",
       "        text-align: right;\n",
       "    }\n",
       "</style>\n",
       "<table border=\"1\" class=\"dataframe\">\n",
       "  <thead>\n",
       "    <tr style=\"text-align: right;\">\n",
       "      <th></th>\n",
       "      <th>idx</th>\n",
       "      <th>name</th>\n",
       "      <th>score</th>\n",
       "    </tr>\n",
       "  </thead>\n",
       "  <tbody>\n",
       "    <tr>\n",
       "      <th>1</th>\n",
       "      <td>70</td>\n",
       "      <td>ActivityCount</td>\n",
       "      <td>0.528579</td>\n",
       "    </tr>\n",
       "    <tr>\n",
       "      <th>3</th>\n",
       "      <td>72</td>\n",
       "      <td>SubCategoryViewCount</td>\n",
       "      <td>0.082305</td>\n",
       "    </tr>\n",
       "    <tr>\n",
       "      <th>2</th>\n",
       "      <td>71</td>\n",
       "      <td>ProductView</td>\n",
       "      <td>0.074098</td>\n",
       "    </tr>\n",
       "    <tr>\n",
       "      <th>0</th>\n",
       "      <td>69</td>\n",
       "      <td>price</td>\n",
       "      <td>0.060119</td>\n",
       "    </tr>\n",
       "    <tr>\n",
       "      <th>5</th>\n",
       "      <td>74</td>\n",
       "      <td>AvgSpendingOnCategoty</td>\n",
       "      <td>0.043797</td>\n",
       "    </tr>\n",
       "    <tr>\n",
       "      <th>38</th>\n",
       "      <td>32</td>\n",
       "      <td>SubCategory_enc_smartphone</td>\n",
       "      <td>0.033908</td>\n",
       "    </tr>\n",
       "    <tr>\n",
       "      <th>4</th>\n",
       "      <td>73</td>\n",
       "      <td>EventHour_Buckets</td>\n",
       "      <td>0.024521</td>\n",
       "    </tr>\n",
       "    <tr>\n",
       "      <th>8</th>\n",
       "      <td>2</td>\n",
       "      <td>brand_Enc_xiaomi</td>\n",
       "      <td>0.024185</td>\n",
       "    </tr>\n",
       "    <tr>\n",
       "      <th>6</th>\n",
       "      <td>0</td>\n",
       "      <td>brand_Enc_samsung</td>\n",
       "      <td>0.021574</td>\n",
       "    </tr>\n",
       "    <tr>\n",
       "      <th>26</th>\n",
       "      <td>20</td>\n",
       "      <td>Category_enc_electronics</td>\n",
       "      <td>0.014170</td>\n",
       "    </tr>\n",
       "  </tbody>\n",
       "</table>\n",
       "</div>"
      ],
      "text/plain": [
       "    idx                        name     score\n",
       "1    70               ActivityCount  0.528579\n",
       "3    72        SubCategoryViewCount  0.082305\n",
       "2    71                 ProductView  0.074098\n",
       "0    69                       price  0.060119\n",
       "5    74       AvgSpendingOnCategoty  0.043797\n",
       "38   32  SubCategory_enc_smartphone  0.033908\n",
       "4    73           EventHour_Buckets  0.024521\n",
       "8     2            brand_Enc_xiaomi  0.024185\n",
       "6     0           brand_Enc_samsung  0.021574\n",
       "26   20    Category_enc_electronics  0.014170"
      ]
     },
     "execution_count": 38,
     "metadata": {},
     "output_type": "execute_result"
    }
   ],
   "source": [
    "RFfi"
   ]
  },
  {
   "cell_type": "code",
   "execution_count": 35,
   "metadata": {},
   "outputs": [],
   "source": [
    "import matplotlib.pyplot as plt"
   ]
  },
  {
   "cell_type": "code",
   "execution_count": 39,
   "metadata": {},
   "outputs": [
    {
     "data": {
      "text/plain": [
       "Text(0, 0.5, 'Score')"
      ]
     },
     "execution_count": 39,
     "metadata": {},
     "output_type": "execute_result"
    },
    {
     "data": {
      "image/png": "[encoded data removed]",
      "text/plain": [
       "<Figure size 432x288 with 1 Axes>"
      ]
     },
     "metadata": {
      "needs_background": "light"
     },
     "output_type": "display_data"
    }
   ],
   "source": [
    "ax = RFfi.plot.bar(x = 'name',y='score')\n",
    "ax.set_title(\"Feature importances\")\n",
    "ax.set_ylabel(\"Score\")"
   ]
  }
 ],
 "metadata": {
  "kernelspec": {
   "display_name": "Python 3",
   "language": "python",
   "name": "python3"
  },
  "language_info": {
   "codemirror_mode": {
    "name": "ipython",
    "version": 3
   },
   "file_extension": ".py",
   "mimetype": "text/x-python",
   "name": "python",
   "nbconvert_exporter": "python",
   "pygments_lexer": "ipython3",
   "version": "3.7.9"
  }
 },
 "nbformat": 4,
 "nbformat_minor": 4
}
