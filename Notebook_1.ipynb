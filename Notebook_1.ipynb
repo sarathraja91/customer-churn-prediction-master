{
 "cells": [
  {
   "cell_type": "code",
   "execution_count": 1,
   "metadata": {},
   "outputs": [
    {
     "data": {
      "application/vnd.jupyter.widget-view+json": {
       "model_id": "72baace150be43ee85f61077e01f348c",
       "version_major": 2,
       "version_minor": 0
      },
      "text/plain": [
       "VBox()"
      ]
     },
     "metadata": {},
     "output_type": "display_data"
    },
    {
     "name": "stdout",
     "output_type": "stream",
     "text": [
      "Starting Spark application\n"
     ]
    },
    {
     "data": {
      "text/html": [
       "<table>\n",
       "<tr><th>ID</th><th>YARN Application ID</th><th>Kind</th><th>State</th><th>Spark UI</th><th>Driver log</th><th>Current session?</th></tr><tr><td>0</td><td>application_1595797161173_0001</td><td>pyspark</td><td>idle</td><td><a target=\"_blank\" href=\"http://ip-172-31-46-167.ap-southeast-1.compute.internal:20888/proxy/application_1595797161173_0001/\">Link</a></td><td><a target=\"_blank\" href=\"http://ip-172-31-38-204.ap-southeast-1.compute.internal:8042/node/containerlogs/container_1595797161173_0001_01_000001/livy\">Link</a></td><td>✔</td></tr></table>"
      ],
      "text/plain": [
       "<IPython.core.display.HTML object>"
      ]
     },
     "metadata": {},
     "output_type": "display_data"
    },
    {
     "data": {
      "application/vnd.jupyter.widget-view+json": {
       "model_id": "",
       "version_major": 2,
       "version_minor": 0
      },
      "text/plain": [
       "FloatProgress(value=0.0, bar_style='info', description='Progress:', layout=Layout(height='25px', width='50%'),…"
      ]
     },
     "metadata": {},
     "output_type": "display_data"
    },
    {
     "name": "stdout",
     "output_type": "stream",
     "text": [
      "SparkSession available as 'spark'.\n"
     ]
    },
    {
     "data": {
      "application/vnd.jupyter.widget-view+json": {
       "model_id": "",
       "version_major": 2,
       "version_minor": 0
      },
      "text/plain": [
       "FloatProgress(value=0.0, bar_style='info', description='Progress:', layout=Layout(height='25px', width='50%'),…"
      ]
     },
     "metadata": {},
     "output_type": "display_data"
    }
   ],
   "source": [
    "import sys\n",
    "import os"
   ]
  },
  {
   "cell_type": "code",
   "execution_count": 2,
   "metadata": {},
   "outputs": [
    {
     "data": {
      "application/vnd.jupyter.widget-view+json": {
       "model_id": "ee02321ca94f4a2cb0b7a9e158322d91",
       "version_major": 2,
       "version_minor": 0
      },
      "text/plain": [
       "VBox()"
      ]
     },
     "metadata": {},
     "output_type": "display_data"
    },
    {
     "data": {
      "application/vnd.jupyter.widget-view+json": {
       "model_id": "",
       "version_major": 2,
       "version_minor": 0
      },
      "text/plain": [
       "FloatProgress(value=0.0, bar_style='info', description='Progress:', layout=Layout(height='25px', width='50%'),…"
      ]
     },
     "metadata": {},
     "output_type": "display_data"
    },
    {
     "name": "stdout",
     "output_type": "stream",
     "text": [
      "Collecting pandas\n",
      "  Downloading https://files.pythonhosted.org/packages/af/f3/683bf2547a3eaeec15b39cef86f61e921b3b187f250fcd2b5c5fb4386369/pandas-1.0.5-cp37-cp37m-manylinux1_x86_64.whl (10.1MB)\n",
      "Requirement already satisfied: pytz>=2017.2 in /usr/local/lib/python3.7/site-packages (from pandas)\n",
      "Requirement already satisfied: numpy>=1.13.3 in /usr/local/lib64/python3.7/site-packages (from pandas)\n",
      "Collecting python-dateutil>=2.6.1 (from pandas)\n",
      "  Downloading https://files.pythonhosted.org/packages/d4/70/d60450c3dd48ef87586924207ae8907090de0b306af2bce5d134d78615cb/python_dateutil-2.8.1-py2.py3-none-any.whl (227kB)\n",
      "Requirement already satisfied: six>=1.5 in /usr/local/lib/python3.7/site-packages (from python-dateutil>=2.6.1->pandas)\n",
      "Installing collected packages: python-dateutil, pandas\n",
      "Successfully installed pandas-1.0.5 python-dateutil-2.8.1\n",
      "\n",
      "Collecting plotly\n",
      "  Downloading https://files.pythonhosted.org/packages/bf/5f/47ab0d9d843c5be0f5c5bd891736a4c84fa45c3b0a0ddb6b6df7c098c66f/plotly-4.9.0-py2.py3-none-any.whl (12.9MB)\n",
      "Collecting retrying>=1.3.3 (from plotly)\n",
      "  Downloading https://files.pythonhosted.org/packages/44/ef/beae4b4ef80902f22e3af073397f079c96969c69b2c7d52a57ea9ae61c9d/retrying-1.3.3.tar.gz\n",
      "Requirement already satisfied: six in /usr/local/lib/python3.7/site-packages (from plotly)\n",
      "Building wheels for collected packages: retrying\n",
      "  Running setup.py bdist_wheel for retrying: started\n",
      "  Running setup.py bdist_wheel for retrying: finished with status 'done'\n",
      "  Stored in directory: /var/lib/livy/.cache/pip/wheels/d7/a9/33/acc7b709e2a35caa7d4cae442f6fe6fbf2c43f80823d46460c\n",
      "Successfully built retrying\n",
      "Installing collected packages: retrying, plotly\n",
      "Successfully installed plotly-4.9.0 retrying-1.3.3\n",
      "\n",
      "Collecting matplotlib\n",
      "  Downloading https://files.pythonhosted.org/packages/1c/15/3fea1bfb7e5b77b7cca9c6010a9cabc58ea125385345ecb6f5832eb8b49a/matplotlib-3.3.0-1-cp37-cp37m-manylinux1_x86_64.whl (11.5MB)\n",
      "Requirement already satisfied: numpy>=1.15 in /usr/local/lib64/python3.7/site-packages (from matplotlib)\n",
      "Requirement already satisfied: python-dateutil>=2.1 in /mnt/tmp/1595797440608-0/lib/python3.7/site-packages (from matplotlib)\n",
      "Collecting pyparsing!=2.0.4,!=2.1.2,!=2.1.6,>=2.0.3 (from matplotlib)\n",
      "  Downloading https://files.pythonhosted.org/packages/8a/bb/488841f56197b13700afd5658fc279a2025a39e22449b7cf29864669b15d/pyparsing-2.4.7-py2.py3-none-any.whl (67kB)\n",
      "Collecting pillow>=6.2.0 (from matplotlib)\n",
      "  Downloading https://files.pythonhosted.org/packages/e8/f2/6722dd0c22e3a143ac792ccb2424924ac72af4adea756b1165b4cad50da7/Pillow-7.2.0-cp37-cp37m-manylinux1_x86_64.whl (2.2MB)\n",
      "Collecting cycler>=0.10 (from matplotlib)\n",
      "  Downloading https://files.pythonhosted.org/packages/f7/d2/e07d3ebb2bd7af696440ce7e754c59dd546ffe1bbe732c8ab68b9c834e61/cycler-0.10.0-py2.py3-none-any.whl\n",
      "Collecting kiwisolver>=1.0.1 (from matplotlib)\n",
      "  Downloading https://files.pythonhosted.org/packages/31/b9/6202dcae729998a0ade30e80ac00f616542ef445b088ec970d407dfd41c0/kiwisolver-1.2.0-cp37-cp37m-manylinux1_x86_64.whl (88kB)\n",
      "Requirement already satisfied: six>=1.5 in /usr/local/lib/python3.7/site-packages (from python-dateutil>=2.1->matplotlib)\n",
      "Installing collected packages: pyparsing, pillow, cycler, kiwisolver, matplotlib\n",
      "Successfully installed cycler-0.10.0 kiwisolver-1.2.0 matplotlib-3.3.0 pillow-7.2.0 pyparsing-2.4.7"
     ]
    }
   ],
   "source": [
    "sc.install_pypi_package(\"pandas\")\n",
    "sc.install_pypi_package(\"plotly\")\n",
    "sc.install_pypi_package(\"matplotlib\")"
   ]
  },
  {
   "cell_type": "code",
   "execution_count": 3,
   "metadata": {},
   "outputs": [
    {
     "data": {
      "application/vnd.jupyter.widget-view+json": {
       "model_id": "9b0e0b6f5239447389220f7552caa7fa",
       "version_major": 2,
       "version_minor": 0
      },
      "text/plain": [
       "VBox()"
      ]
     },
     "metadata": {},
     "output_type": "display_data"
    },
    {
     "data": {
      "application/vnd.jupyter.widget-view+json": {
       "model_id": "",
       "version_major": 2,
       "version_minor": 0
      },
      "text/plain": [
       "FloatProgress(value=0.0, bar_style='info', description='Progress:', layout=Layout(height='25px', width='50%'),…"
      ]
     },
     "metadata": {},
     "output_type": "display_data"
    }
   ],
   "source": [
    "MAX_MEMORY = \"14g\"\n",
    "from pyspark.sql import SparkSession\n",
    "spark = SparkSession.builder.appName('ECom').config(\"spark.driver.memory\", MAX_MEMORY).getOrCreate()"
   ]
  },
  {
   "cell_type": "code",
   "execution_count": 4,
   "metadata": {},
   "outputs": [
    {
     "data": {
      "application/vnd.jupyter.widget-view+json": {
       "model_id": "d648c5bce62d44f9a756fa2834537fa1",
       "version_major": 2,
       "version_minor": 0
      },
      "text/plain": [
       "VBox()"
      ]
     },
     "metadata": {},
     "output_type": "display_data"
    },
    {
     "data": {
      "application/vnd.jupyter.widget-view+json": {
       "model_id": "",
       "version_major": 2,
       "version_minor": 0
      },
      "text/plain": [
       "FloatProgress(value=0.0, bar_style='info', description='Progress:', layout=Layout(height='25px', width='50%'),…"
      ]
     },
     "metadata": {},
     "output_type": "display_data"
    }
   ],
   "source": [
    "import pandas as pd\n",
    "from pyspark.sql.functions import col\n",
    "from pyspark.sql.functions import countDistinct\n",
    "from pyspark.sql.functions import isnan, when, count, col\n",
    "from pyspark.sql.functions import to_timestamp, hour, dayofweek."
   ]
  },
  {
   "cell_type": "code",
   "execution_count": 5,
   "metadata": {},
   "outputs": [
    {
     "data": {
      "application/vnd.jupyter.widget-view+json": {
       "model_id": "e0caa4d3a4464f3daeaa51f6f8074584",
       "version_major": 2,
       "version_minor": 0
      },
      "text/plain": [
       "VBox()"
      ]
     },
     "metadata": {},
     "output_type": "display_data"
    },
    {
     "data": {
      "application/vnd.jupyter.widget-view+json": {
       "model_id": "",
       "version_major": 2,
       "version_minor": 0
      },
      "text/plain": [
       "FloatProgress(value=0.0, bar_style='info', description='Progress:', layout=Layout(height='25px', width='50%'),…"
      ]
     },
     "metadata": {},
     "output_type": "display_data"
    }
   ],
   "source": [
    "# loading the dataset from S3 - 2019-Oct.csv\n",
    "df = spark.read.csv(\"s3://mlc-c5-assignment/2019-Oct.csv\", header=True, inferSchema=True)"
   ]
  },
  {
   "cell_type": "code",
   "execution_count": 6,
   "metadata": {},
   "outputs": [
    {
     "data": {
      "application/vnd.jupyter.widget-view+json": {
       "model_id": "2850a6a3aa1346aabb9d84644430779e",
       "version_major": 2,
       "version_minor": 0
      },
      "text/plain": [
       "VBox()"
      ]
     },
     "metadata": {},
     "output_type": "display_data"
    },
    {
     "data": {
      "application/vnd.jupyter.widget-view+json": {
       "model_id": "",
       "version_major": 2,
       "version_minor": 0
      },
      "text/plain": [
       "FloatProgress(value=0.0, bar_style='info', description='Progress:', layout=Layout(height='25px', width='50%'),…"
      ]
     },
     "metadata": {},
     "output_type": "display_data"
    },
    {
     "name": "stdout",
     "output_type": "stream",
     "text": [
      "+-----------------------+----------+----------+-------------------+-----------------------------------+--------+-------+---------+------------------------------------+\n",
      "|event_time             |event_type|product_id|category_id        |category_code                      |brand   |price  |user_id  |user_session                        |\n",
      "+-----------------------+----------+----------+-------------------+-----------------------------------+--------+-------+---------+------------------------------------+\n",
      "|2019-10-01 00:00:00 UTC|view      |44600062  |2103807459595387724|null                               |shiseido|35.79  |541312140|72d76fde-8bb3-4e00-8c23-a032dfed738c|\n",
      "|2019-10-01 00:00:00 UTC|view      |3900821   |2053013552326770905|appliances.environment.water_heater|aqua    |33.2   |554748717|9333dfbd-b87a-4708-9857-6336556b0fcc|\n",
      "|2019-10-01 00:00:01 UTC|view      |17200506  |2053013559792632471|furniture.living_room.sofa         |null    |543.1  |519107250|566511c2-e2e3-422b-b695-cf8e6e792ca8|\n",
      "|2019-10-01 00:00:01 UTC|view      |1307067   |2053013558920217191|computers.notebook                 |lenovo  |251.74 |550050854|7c90fc70-0e80-4590-96f3-13c02c18c713|\n",
      "|2019-10-01 00:00:04 UTC|view      |1004237   |2053013555631882655|electronics.smartphone             |apple   |1081.98|535871217|c6bd7419-2748-4c56-95b4-8cec9ff8b80d|\n",
      "|2019-10-01 00:00:05 UTC|view      |1480613   |2053013561092866779|computers.desktop                  |pulser  |908.62 |512742880|0d0d91c2-c9c2-4e81-90a5-86594dec0db9|\n",
      "|2019-10-01 00:00:08 UTC|view      |17300353  |2053013553853497655|null                               |creed   |380.96 |555447699|4fe811e9-91de-46da-90c3-bbd87ed3a65d|\n",
      "|2019-10-01 00:00:08 UTC|view      |31500053  |2053013558031024687|null                               |luminarc|41.16  |550978835|6280d577-25c8-4147-99a7-abc6048498d6|\n",
      "|2019-10-01 00:00:10 UTC|view      |28719074  |2053013565480109009|apparel.shoes.keds                 |baden   |102.71 |520571932|ac1cd4e5-a3ce-4224-a2d7-ff660a105880|\n",
      "|2019-10-01 00:00:11 UTC|view      |1004545   |2053013555631882655|electronics.smartphone             |huawei  |566.01 |537918940|406c46ed-90a4-4787-a43b-59a410c1a5fb|\n",
      "|2019-10-01 00:00:11 UTC|view      |2900536   |2053013554776244595|appliances.kitchen.microwave       |elenberg|51.46  |555158050|b5bdd0b3-4ca2-4c55-939e-9ce44bb50abd|\n",
      "|2019-10-01 00:00:11 UTC|view      |1005011   |2053013555631882655|electronics.smartphone             |samsung |900.64 |530282093|50a293fb-5940-41b2-baf3-17af0e812101|\n",
      "|2019-10-01 00:00:13 UTC|view      |3900746   |2053013552326770905|appliances.environment.water_heater|haier   |102.38 |555444559|98b88fa0-d8fa-4b9d-8a71-3dd403afab85|\n",
      "|2019-10-01 00:00:15 UTC|view      |44600062  |2103807459595387724|null                               |shiseido|35.79  |541312140|72d76fde-8bb3-4e00-8c23-a032dfed738c|\n",
      "|2019-10-01 00:00:16 UTC|view      |13500240  |2053013557099889147|furniture.bedroom.bed              |brw     |93.18  |555446365|7f0062d8-ead0-4e0a-96f6-43a0b79a2fc4|\n",
      "|2019-10-01 00:00:17 UTC|view      |23100006  |2053013561638126333|null                               |null    |357.79 |513642368|17566c27-0a8f-4506-9f30-c6a2ccbf583b|\n",
      "|2019-10-01 00:00:18 UTC|view      |1801995   |2053013554415534427|electronics.video.tv               |haier   |193.03 |537192226|e3151795-c355-4efa-acf6-e1fe1bebeee5|\n",
      "|2019-10-01 00:00:18 UTC|view      |10900029  |2053013555069845885|appliances.kitchen.mixer           |bosch   |58.95  |519528062|901b9e3c-3f8f-4147-a442-c25d5c5ed332|\n",
      "|2019-10-01 00:00:19 UTC|view      |1306631   |2053013558920217191|computers.notebook                 |hp      |580.89 |550050854|7c90fc70-0e80-4590-96f3-13c02c18c713|\n",
      "|2019-10-01 00:00:19 UTC|view      |1005135   |2053013555631882655|electronics.smartphone             |apple   |1747.79|535871217|c6bd7419-2748-4c56-95b4-8cec9ff8b80d|\n",
      "+-----------------------+----------+----------+-------------------+-----------------------------------+--------+-------+---------+------------------------------------+\n",
      "only showing top 20 rows"
     ]
    }
   ],
   "source": [
    "# exploring the dataframe - top 20 rows\n",
    "df.show(20, False)"
   ]
  },
  {
   "cell_type": "code",
   "execution_count": 7,
   "metadata": {},
   "outputs": [
    {
     "data": {
      "application/vnd.jupyter.widget-view+json": {
       "model_id": "771ab7c029d34ba0a58e0cf49eb22036",
       "version_major": 2,
       "version_minor": 0
      },
      "text/plain": [
       "VBox()"
      ]
     },
     "metadata": {},
     "output_type": "display_data"
    },
    {
     "data": {
      "application/vnd.jupyter.widget-view+json": {
       "model_id": "",
       "version_major": 2,
       "version_minor": 0
      },
      "text/plain": [
       "FloatProgress(value=0.0, bar_style='info', description='Progress:', layout=Layout(height='25px', width='50%'),…"
      ]
     },
     "metadata": {},
     "output_type": "display_data"
    },
    {
     "name": "stdout",
     "output_type": "stream",
     "text": [
      "root\n",
      " |-- event_time: string (nullable = true)\n",
      " |-- event_type: string (nullable = true)\n",
      " |-- product_id: integer (nullable = true)\n",
      " |-- category_id: long (nullable = true)\n",
      " |-- category_code: string (nullable = true)\n",
      " |-- brand: string (nullable = true)\n",
      " |-- price: double (nullable = true)\n",
      " |-- user_id: integer (nullable = true)\n",
      " |-- user_session: string (nullable = true)"
     ]
    }
   ],
   "source": [
    "# exploring the dataframe - schema\n",
    "df.printSchema()"
   ]
  },
  {
   "cell_type": "code",
   "execution_count": 8,
   "metadata": {},
   "outputs": [
    {
     "data": {
      "application/vnd.jupyter.widget-view+json": {
       "model_id": "e024eefa45f94f8e926deb8c0eac042c",
       "version_major": 2,
       "version_minor": 0
      },
      "text/plain": [
       "VBox()"
      ]
     },
     "metadata": {},
     "output_type": "display_data"
    },
    {
     "data": {
      "application/vnd.jupyter.widget-view+json": {
       "model_id": "",
       "version_major": 2,
       "version_minor": 0
      },
      "text/plain": [
       "FloatProgress(value=0.0, bar_style='info', description='Progress:', layout=Layout(height='25px', width='50%'),…"
      ]
     },
     "metadata": {},
     "output_type": "display_data"
    },
    {
     "name": "stdout",
     "output_type": "stream",
     "text": [
      "(42448764, 9)"
     ]
    }
   ],
   "source": [
    "# Number of rows and columns in the dataset\n",
    "print((df.count(), len(df.columns)))"
   ]
  },
  {
   "cell_type": "code",
   "execution_count": 9,
   "metadata": {},
   "outputs": [
    {
     "data": {
      "application/vnd.jupyter.widget-view+json": {
       "model_id": "9789c58f070849aabf5f4f5b2d87e0b3",
       "version_major": 2,
       "version_minor": 0
      },
      "text/plain": [
       "VBox()"
      ]
     },
     "metadata": {},
     "output_type": "display_data"
    },
    {
     "data": {
      "application/vnd.jupyter.widget-view+json": {
       "model_id": "",
       "version_major": 2,
       "version_minor": 0
      },
      "text/plain": [
       "FloatProgress(value=0.0, bar_style='info', description='Progress:', layout=Layout(height='25px', width='50%'),…"
      ]
     },
     "metadata": {},
     "output_type": "display_data"
    },
    {
     "name": "stdout",
     "output_type": "stream",
     "text": [
      "+----------+-----+\n",
      "|product_id|count|\n",
      "+----------+-----+\n",
      "|   1004856|28944|\n",
      "|   1004767|21806|\n",
      "|   1004833|12697|\n",
      "|   1005115|12543|\n",
      "|   4804056|12381|\n",
      "+----------+-----+\n",
      "only showing top 5 rows"
     ]
    }
   ],
   "source": [
    "# 5 most popular products sold\n",
    "df[df[\"event_type\"]==\"purchase\"].groupby('product_id').count().sort(col(\"count\").desc()).show(5)"
   ]
  },
  {
   "cell_type": "code",
   "execution_count": 10,
   "metadata": {},
   "outputs": [
    {
     "data": {
      "application/vnd.jupyter.widget-view+json": {
       "model_id": "e7ca003511534ddc8e54414bbaf7988a",
       "version_major": 2,
       "version_minor": 0
      },
      "text/plain": [
       "VBox()"
      ]
     },
     "metadata": {},
     "output_type": "display_data"
    },
    {
     "data": {
      "application/vnd.jupyter.widget-view+json": {
       "model_id": "",
       "version_major": 2,
       "version_minor": 0
      },
      "text/plain": [
       "FloatProgress(value=0.0, bar_style='info', description='Progress:', layout=Layout(height='25px', width='50%'),…"
      ]
     },
     "metadata": {},
     "output_type": "display_data"
    },
    {
     "name": "stdout",
     "output_type": "stream",
     "text": [
      "+-------+------+\n",
      "|  brand| count|\n",
      "+-------+------+\n",
      "|samsung|172896|\n",
      "|  apple|142873|\n",
      "|   null| 58214|\n",
      "| xiaomi| 56616|\n",
      "| huawei| 23501|\n",
      "|lucente| 11578|\n",
      "+-------+------+\n",
      "only showing top 6 rows"
     ]
    }
   ],
   "source": [
    "# 5 most popular brands\n",
    "df[df[\"event_type\"]==\"purchase\"].groupby('brand').count().sort(col(\"count\").desc()).show(6) #showing 6 as null is also there"
   ]
  },
  {
   "cell_type": "code",
   "execution_count": 11,
   "metadata": {},
   "outputs": [
    {
     "data": {
      "application/vnd.jupyter.widget-view+json": {
       "model_id": "378f60e1d4ba421fb0f8dfb9ac39f197",
       "version_major": 2,
       "version_minor": 0
      },
      "text/plain": [
       "VBox()"
      ]
     },
     "metadata": {},
     "output_type": "display_data"
    },
    {
     "data": {
      "application/vnd.jupyter.widget-view+json": {
       "model_id": "",
       "version_major": 2,
       "version_minor": 0
      },
      "text/plain": [
       "FloatProgress(value=0.0, bar_style='info', description='Progress:', layout=Layout(height='25px', width='50%'),…"
      ]
     },
     "metadata": {},
     "output_type": "display_data"
    },
    {
     "name": "stdout",
     "output_type": "stream",
     "text": [
      "+-----------+\n",
      "|UniqueUsers|\n",
      "+-----------+\n",
      "|    3022290|\n",
      "+-----------+"
     ]
    }
   ],
   "source": [
    "# Number of unique users\n",
    "df.select(countDistinct(\"user_id\")).withColumnRenamed(\"count(DISTINCT user_id)\", \"UniqueUsers\").show()"
   ]
  },
  {
   "cell_type": "code",
   "execution_count": 12,
   "metadata": {},
   "outputs": [
    {
     "data": {
      "application/vnd.jupyter.widget-view+json": {
       "model_id": "cc20a9fc7bbf48db8d0485c586ae2766",
       "version_major": 2,
       "version_minor": 0
      },
      "text/plain": [
       "VBox()"
      ]
     },
     "metadata": {},
     "output_type": "display_data"
    },
    {
     "data": {
      "application/vnd.jupyter.widget-view+json": {
       "model_id": "",
       "version_major": 2,
       "version_minor": 0
      },
      "text/plain": [
       "FloatProgress(value=0.0, bar_style='info', description='Progress:', layout=Layout(height='25px', width='50%'),…"
      ]
     },
     "metadata": {},
     "output_type": "display_data"
    },
    {
     "name": "stdout",
     "output_type": "stream",
     "text": [
      "+---------+--------------+\n",
      "|  user_id|UniqueSessions|\n",
      "+---------+--------------+\n",
      "|512475445|          7400|\n",
      "+---------+--------------+\n",
      "only showing top 1 row"
     ]
    }
   ],
   "source": [
    "# The most active user on the platform\n",
    "df.groupby('user_id').agg(countDistinct(\"user_session\")).withColumnRenamed(\"count(DISTINCT user_session)\", \"UniqueSessions\").sort(col(\"UniqueSessions\").desc()).show(1)"
   ]
  },
  {
   "cell_type": "code",
   "execution_count": 13,
   "metadata": {},
   "outputs": [
    {
     "data": {
      "application/vnd.jupyter.widget-view+json": {
       "model_id": "8023458791b8401c8eb9eafba9c235d6",
       "version_major": 2,
       "version_minor": 0
      },
      "text/plain": [
       "VBox()"
      ]
     },
     "metadata": {},
     "output_type": "display_data"
    },
    {
     "data": {
      "application/vnd.jupyter.widget-view+json": {
       "model_id": "",
       "version_major": 2,
       "version_minor": 0
      },
      "text/plain": [
       "FloatProgress(value=0.0, bar_style='info', description='Progress:', layout=Layout(height='25px', width='50%'),…"
      ]
     },
     "metadata": {},
     "output_type": "display_data"
    },
    {
     "name": "stdout",
     "output_type": "stream",
     "text": [
      "+----------+\n",
      "|max(price)|\n",
      "+----------+\n",
      "|   2110.45|\n",
      "+----------+\n",
      "\n",
      "+-----------------+\n",
      "|       avg(price)|\n",
      "+-----------------+\n",
      "|464.6191130945662|\n",
      "+-----------------+"
     ]
    }
   ],
   "source": [
    "# Average and Maximum price for smartphones purchased by the customers\n",
    "df.filter((col(\"event_type\")==\"purchase\") & (col(\"category_code\").like(\"electronics.smartphone\"))).groupBy().max('price').show()\n",
    "df.filter((col(\"event_type\")==\"purchase\") & (col(\"category_code\").like(\"electronics.smartphone\"))).groupBy().avg('price').show()"
   ]
  },
  {
   "cell_type": "code",
   "execution_count": 14,
   "metadata": {},
   "outputs": [
    {
     "data": {
      "application/vnd.jupyter.widget-view+json": {
       "model_id": "09ef98d5315a4efa953713aa3ee3313c",
       "version_major": 2,
       "version_minor": 0
      },
      "text/plain": [
       "VBox()"
      ]
     },
     "metadata": {},
     "output_type": "display_data"
    },
    {
     "data": {
      "application/vnd.jupyter.widget-view+json": {
       "model_id": "",
       "version_major": 2,
       "version_minor": 0
      },
      "text/plain": [
       "FloatProgress(value=0.0, bar_style='info', description='Progress:', layout=Layout(height='25px', width='50%'),…"
      ]
     },
     "metadata": {},
     "output_type": "display_data"
    },
    {
     "name": "stdout",
     "output_type": "stream",
     "text": [
      "['cart', 'view', 'purchase'] [926516, 40779399, 742849]"
     ]
    }
   ],
   "source": [
    "# Event-type funnel distribution\n",
    "# Remember Spark dataframe cannot be visualised directly\n",
    "events_count = df.groupby('event_type').count().withColumnRenamed(\"count\", \"event_count\")\n",
    "labels = [row.event_type for row in events_count.collect()]\n",
    "size = [int(row.event_count) for row in events_count.collect()]\n",
    "print(labels, size)"
   ]
  },
  {
   "cell_type": "code",
   "execution_count": 44,
   "metadata": {},
   "outputs": [
    {
     "data": {
      "application/vnd.jupyter.widget-view+json": {
       "model_id": "aac4534c3d3e40068e853f9661be427f",
       "version_major": 2,
       "version_minor": 0
      },
      "text/plain": [
       "VBox()"
      ]
     },
     "metadata": {},
     "output_type": "display_data"
    },
    {
     "data": {
      "application/vnd.jupyter.widget-view+json": {
       "model_id": "",
       "version_major": 2,
       "version_minor": 0
      },
      "text/plain": [
       "FloatProgress(value=0.0, bar_style='info', description='Progress:', layout=Layout(height='25px', width='50%'),…"
      ]
     },
     "metadata": {},
     "output_type": "display_data"
    }
   ],
   "source": [
    "# from plotly import graph_objects as go\n",
    "# fig = go.Figure(go.Funnel(y=size, x=labels))\n",
    "# fig.show()\n",
    "from plotly import express as px\n",
    "fig = px.funnel_area(names=labels,\n",
    "                    values=size)\n",
    "fig.show()"
   ]
  },
  {
   "cell_type": "code",
   "execution_count": 18,
   "metadata": {},
   "outputs": [
    {
     "data": {
      "application/vnd.jupyter.widget-view+json": {
       "model_id": "07623a3570bc43638aafd4ebb1c97778",
       "version_major": 2,
       "version_minor": 0
      },
      "text/plain": [
       "VBox()"
      ]
     },
     "metadata": {},
     "output_type": "display_data"
    },
    {
     "data": {
      "application/vnd.jupyter.widget-view+json": {
       "model_id": "",
       "version_major": 2,
       "version_minor": 0
      },
      "text/plain": [
       "FloatProgress(value=0.0, bar_style='info', description='Progress:', layout=Layout(height='25px', width='50%'),…"
      ]
     },
     "metadata": {},
     "output_type": "display_data"
    }
   ],
   "source": [
    "df = df.withColumn(\"event_time\", to_timestamp(df.event_time, 'yyyy-MM-dd HH:mm:ss'))"
   ]
  },
  {
   "cell_type": "code",
   "execution_count": 19,
   "metadata": {},
   "outputs": [
    {
     "data": {
      "application/vnd.jupyter.widget-view+json": {
       "model_id": "c140cf546a8e4e3bae89d00835d8316b",
       "version_major": 2,
       "version_minor": 0
      },
      "text/plain": [
       "VBox()"
      ]
     },
     "metadata": {},
     "output_type": "display_data"
    },
    {
     "data": {
      "application/vnd.jupyter.widget-view+json": {
       "model_id": "",
       "version_major": 2,
       "version_minor": 0
      },
      "text/plain": [
       "FloatProgress(value=0.0, bar_style='info', description='Progress:', layout=Layout(height='25px', width='50%'),…"
      ]
     },
     "metadata": {},
     "output_type": "display_data"
    }
   ],
   "source": [
    "# Traffic on different days of the week\n",
    "# Remember Spark dataframe cannot be visualised directly\n",
    "day_visits = df.groupby(dayofweek(df[\"event_time\"])).agg(countDistinct(\"user_session\"))"
   ]
  },
  {
   "cell_type": "code",
   "execution_count": 20,
   "metadata": {},
   "outputs": [
    {
     "data": {
      "application/vnd.jupyter.widget-view+json": {
       "model_id": "975571156d1e45318490c53c0a7e98e0",
       "version_major": 2,
       "version_minor": 0
      },
      "text/plain": [
       "VBox()"
      ]
     },
     "metadata": {},
     "output_type": "display_data"
    },
    {
     "data": {
      "application/vnd.jupyter.widget-view+json": {
       "model_id": "",
       "version_major": 2,
       "version_minor": 0
      },
      "text/plain": [
       "FloatProgress(value=0.0, bar_style='info', description='Progress:', layout=Layout(height='25px', width='50%'),…"
      ]
     },
     "metadata": {},
     "output_type": "display_data"
    }
   ],
   "source": [
    "day_visits =  day_visits.withColumnRenamed(\"dayofweek(event_time)\",\"DayOfWeek\").withColumnRenamed(\"count(DISTINCT user_session)\",\"ActivityCount\")\n",
    "day = [row.DayOfWeek for row in day_visits.collect()]\n",
    "activity = [int(row.ActivityCount) for row in day_visits.collect()]"
   ]
  },
  {
   "cell_type": "code",
   "execution_count": 21,
   "metadata": {},
   "outputs": [
    {
     "data": {
      "application/vnd.jupyter.widget-view+json": {
       "model_id": "2215086aa70b478fa25d16b7343b2fd1",
       "version_major": 2,
       "version_minor": 0
      },
      "text/plain": [
       "VBox()"
      ]
     },
     "metadata": {},
     "output_type": "display_data"
    },
    {
     "data": {
      "application/vnd.jupyter.widget-view+json": {
       "model_id": "",
       "version_major": 2,
       "version_minor": 0
      },
      "text/plain": [
       "FloatProgress(value=0.0, bar_style='info', description='Progress:', layout=Layout(height='25px', width='50%'),…"
      ]
     },
     "metadata": {},
     "output_type": "display_data"
    },
    {
     "name": "stdout",
     "output_type": "stream",
     "text": [
      "+---------+-------------+\n",
      "|DayOfWeek|ActivityCount|\n",
      "+---------+-------------+\n",
      "|        1|      1236041|\n",
      "|        6|      1286835|\n",
      "|        3|      1504737|\n",
      "|        4|      1476124|\n",
      "|        5|      1413669|\n",
      "|        2|      1173112|\n",
      "|        7|      1191891|\n",
      "+---------+-------------+"
     ]
    }
   ],
   "source": [
    "day_visits.show()"
   ]
  },
  {
   "cell_type": "code",
   "execution_count": 22,
   "metadata": {},
   "outputs": [
    {
     "data": {
      "application/vnd.jupyter.widget-view+json": {
       "model_id": "0aa4260c724b46d8b7ca6522c5e992e6",
       "version_major": 2,
       "version_minor": 0
      },
      "text/plain": [
       "VBox()"
      ]
     },
     "metadata": {},
     "output_type": "display_data"
    },
    {
     "data": {
      "application/vnd.jupyter.widget-view+json": {
       "model_id": "",
       "version_major": 2,
       "version_minor": 0
      },
      "text/plain": [
       "FloatProgress(value=0.0, bar_style='info', description='Progress:', layout=Layout(height='25px', width='50%'),…"
      ]
     },
     "metadata": {},
     "output_type": "display_data"
    },
    {
     "name": "stderr",
     "output_type": "stream",
     "text": [
      "'NoneType' object has no attribute 'plot'\n",
      "Traceback (most recent call last):\n",
      "AttributeError: 'NoneType' object has no attribute 'plot'\n",
      "\n"
     ]
    }
   ],
   "source": [
    "import matplotlib.pyplot as plt\n",
    "plt.clf()\n",
    "day_visits_pd = day_visits.toPandas().sort_values(by=['DayOfWeek'], inplace = True)\n",
    "day_visits_pd.plot(kind='bar', x='DayOfWeek', y='ActivityCount')\n",
    "plt.xticks(day_visits_pd.DayOfWeek)\n",
    "plt.xlim(0, 7)\n",
    "plt.xlabel('Day')\n",
    "plt.ylabel('Number of visits')\n",
    "\n",
    "%matplot plt"
   ]
  },
  {
   "cell_type": "code",
   "execution_count": null,
   "metadata": {},
   "outputs": [],
   "source": [
    "# Handling missing values \n",
    "\n",
    "##Check Missing values for each column\n",
    "df.select([count(when(isnan(c) | col(c).isNull(), c)).alias(c) for c in df.columns if c!='event_time']).show()"
   ]
  },
  {
   "cell_type": "code",
   "execution_count": null,
   "metadata": {},
   "outputs": [],
   "source": [
    "##Check Missing values for each column when the event was Purchase\n",
    "df.filter(col(\"event_type\")==\"purchase\").select([count(when(isnan(c) | col(c).isNull(), c)).alias(c) for c in df.columns if c!='event_time']).show()"
   ]
  },
  {
   "cell_type": "markdown",
   "metadata": {},
   "source": [
    "####Since the values having null does not change the distribution and after dropping them we still have enough data to build the model. Hence dropping"
   ]
  },
  {
   "cell_type": "code",
   "execution_count": 24,
   "metadata": {},
   "outputs": [
    {
     "data": {
      "application/vnd.jupyter.widget-view+json": {
       "model_id": "cf24ddae3ba24351acf92eda9322c92f",
       "version_major": 2,
       "version_minor": 0
      },
      "text/plain": [
       "VBox()"
      ]
     },
     "metadata": {},
     "output_type": "display_data"
    },
    {
     "data": {
      "application/vnd.jupyter.widget-view+json": {
       "model_id": "",
       "version_major": 2,
       "version_minor": 0
      },
      "text/plain": [
       "FloatProgress(value=0.0, bar_style='info', description='Progress:', layout=Layout(height='25px', width='50%'),…"
      ]
     },
     "metadata": {},
     "output_type": "display_data"
    }
   ],
   "source": [
    "df = df.na.drop()"
   ]
  },
  {
   "cell_type": "code",
   "execution_count": 25,
   "metadata": {},
   "outputs": [
    {
     "data": {
      "application/vnd.jupyter.widget-view+json": {
       "model_id": "fe188ad73ebd4227be65a36e332ccdd7",
       "version_major": 2,
       "version_minor": 0
      },
      "text/plain": [
       "VBox()"
      ]
     },
     "metadata": {},
     "output_type": "display_data"
    },
    {
     "data": {
      "application/vnd.jupyter.widget-view+json": {
       "model_id": "",
       "version_major": 2,
       "version_minor": 0
      },
      "text/plain": [
       "FloatProgress(value=0.0, bar_style='info', description='Progress:', layout=Layout(height='25px', width='50%'),…"
      ]
     },
     "metadata": {},
     "output_type": "display_data"
    },
    {
     "name": "stdout",
     "output_type": "stream",
     "text": [
      "Data has duplicates"
     ]
    }
   ],
   "source": [
    "# Checking for duplicate entries\n",
    "if df.count() > df.dropDuplicates().count():\n",
    "    print('Data has duplicates')"
   ]
  },
  {
   "cell_type": "code",
   "execution_count": 26,
   "metadata": {},
   "outputs": [
    {
     "data": {
      "application/vnd.jupyter.widget-view+json": {
       "model_id": "1b1214c3ee424c2db4bbdef90058049b",
       "version_major": 2,
       "version_minor": 0
      },
      "text/plain": [
       "VBox()"
      ]
     },
     "metadata": {},
     "output_type": "display_data"
    },
    {
     "data": {
      "application/vnd.jupyter.widget-view+json": {
       "model_id": "",
       "version_major": 2,
       "version_minor": 0
      },
      "text/plain": [
       "FloatProgress(value=0.0, bar_style='info', description='Progress:', layout=Layout(height='25px', width='50%'),…"
      ]
     },
     "metadata": {},
     "output_type": "display_data"
    }
   ],
   "source": [
    "df = df.dropDuplicates()"
   ]
  },
  {
   "cell_type": "code",
   "execution_count": 27,
   "metadata": {},
   "outputs": [
    {
     "data": {
      "application/vnd.jupyter.widget-view+json": {
       "model_id": "af14e1ab45b145f09035e7de7ab726ff",
       "version_major": 2,
       "version_minor": 0
      },
      "text/plain": [
       "VBox()"
      ]
     },
     "metadata": {},
     "output_type": "display_data"
    },
    {
     "data": {
      "application/vnd.jupyter.widget-view+json": {
       "model_id": "",
       "version_major": 2,
       "version_minor": 0
      },
      "text/plain": [
       "FloatProgress(value=0.0, bar_style='info', description='Progress:', layout=Layout(height='25px', width='50%'),…"
      ]
     },
     "metadata": {},
     "output_type": "display_data"
    }
   ],
   "source": [
    "columns_to_drop = ['category_id']\n",
    "df = df.drop(*columns_to_drop)"
   ]
  },
  {
   "cell_type": "code",
   "execution_count": 28,
   "metadata": {},
   "outputs": [
    {
     "data": {
      "application/vnd.jupyter.widget-view+json": {
       "model_id": "8b62aef81a1649b2bf7ae4b14a132591",
       "version_major": 2,
       "version_minor": 0
      },
      "text/plain": [
       "VBox()"
      ]
     },
     "metadata": {},
     "output_type": "display_data"
    },
    {
     "data": {
      "application/vnd.jupyter.widget-view+json": {
       "model_id": "",
       "version_major": 2,
       "version_minor": 0
      },
      "text/plain": [
       "FloatProgress(value=0.0, bar_style='info', description='Progress:', layout=Layout(height='25px', width='50%'),…"
      ]
     },
     "metadata": {},
     "output_type": "display_data"
    }
   ],
   "source": [
    "# Generating 2 columns from category code\n",
    "# Columns have only single entity (electronics.video.tv: electronics, video)\n",
    "# Check if split command works with '.' or Spark treats it as special character\n",
    "from pyspark.sql.functions import split\n",
    "df = df.withColumn(\"Category\", split(col(\"category_code\"), \"\\.\").getItem(0)) \\\n",
    " .withColumn(\"SubCategory\", split(col(\"category_code\"), \"\\.\").getItem(1)).drop(\"category_code\")"
   ]
  },
  {
   "cell_type": "code",
   "execution_count": 29,
   "metadata": {},
   "outputs": [
    {
     "data": {
      "application/vnd.jupyter.widget-view+json": {
       "model_id": "85f442d53d684ab3ac9cdd74bbc1a20d",
       "version_major": 2,
       "version_minor": 0
      },
      "text/plain": [
       "VBox()"
      ]
     },
     "metadata": {},
     "output_type": "display_data"
    },
    {
     "data": {
      "application/vnd.jupyter.widget-view+json": {
       "model_id": "",
       "version_major": 2,
       "version_minor": 0
      },
      "text/plain": [
       "FloatProgress(value=0.0, bar_style='info', description='Progress:', layout=Layout(height='25px', width='50%'),…"
      ]
     },
     "metadata": {},
     "output_type": "display_data"
    },
    {
     "name": "stdout",
     "output_type": "stream",
     "text": [
      "['event_time', 'event_type', 'product_id', 'brand', 'price', 'user_id', 'user_session', 'Category', 'SubCategory']"
     ]
    }
   ],
   "source": [
    "# Check if the column is added\n",
    "df.columns"
   ]
  },
  {
   "cell_type": "code",
   "execution_count": 30,
   "metadata": {},
   "outputs": [
    {
     "data": {
      "application/vnd.jupyter.widget-view+json": {
       "model_id": "2385156e62b74e90b0b78f3f0bf241ed",
       "version_major": 2,
       "version_minor": 0
      },
      "text/plain": [
       "VBox()"
      ]
     },
     "metadata": {},
     "output_type": "display_data"
    },
    {
     "data": {
      "application/vnd.jupyter.widget-view+json": {
       "model_id": "",
       "version_major": 2,
       "version_minor": 0
      },
      "text/plain": [
       "FloatProgress(value=0.0, bar_style='info', description='Progress:', layout=Layout(height='25px', width='50%'),…"
      ]
     },
     "metadata": {},
     "output_type": "display_data"
    }
   ],
   "source": [
    "# Activities in a session by the user\n",
    "# Window functions can be helpful here\n",
    "from pyspark.sql.window import Window\n",
    "w = Window.partitionBy(df.user_session)\n",
    "df = df.withColumn(\"ActivityCount\", count('event_type').over(w))"
   ]
  },
  {
   "cell_type": "code",
   "execution_count": 31,
   "metadata": {},
   "outputs": [
    {
     "data": {
      "application/vnd.jupyter.widget-view+json": {
       "model_id": "381593ba83ea49389518d383fb0944ac",
       "version_major": 2,
       "version_minor": 0
      },
      "text/plain": [
       "VBox()"
      ]
     },
     "metadata": {},
     "output_type": "display_data"
    },
    {
     "data": {
      "application/vnd.jupyter.widget-view+json": {
       "model_id": "",
       "version_major": 2,
       "version_minor": 0
      },
      "text/plain": [
       "FloatProgress(value=0.0, bar_style='info', description='Progress:', layout=Layout(height='25px', width='50%'),…"
      ]
     },
     "metadata": {},
     "output_type": "display_data"
    }
   ],
   "source": [
    "# View count for a product by the user\n",
    "# Window functions can be helpful here\n",
    "w = Window.partitionBy(df.user_id, df.product_id)\n",
    "df = df.withColumn(\"ProductView\", count(when(col('event_type')=='view', col('event_type'))).over(w))"
   ]
  },
  {
   "cell_type": "code",
   "execution_count": 32,
   "metadata": {},
   "outputs": [
    {
     "data": {
      "application/vnd.jupyter.widget-view+json": {
       "model_id": "d7ddc1bd8a214ed3b9bbcb8d81b6958c",
       "version_major": 2,
       "version_minor": 0
      },
      "text/plain": [
       "VBox()"
      ]
     },
     "metadata": {},
     "output_type": "display_data"
    },
    {
     "data": {
      "application/vnd.jupyter.widget-view+json": {
       "model_id": "",
       "version_major": 2,
       "version_minor": 0
      },
      "text/plain": [
       "FloatProgress(value=0.0, bar_style='info', description='Progress:', layout=Layout(height='25px', width='50%'),…"
      ]
     },
     "metadata": {},
     "output_type": "display_data"
    }
   ],
   "source": [
    "# View count for the secondary category by the user\n",
    "# Window functions can be helpful here\n",
    "w = Window.partitionBy(df.user_id, df.SubCategory)\n",
    "df = df.withColumn('SubCategoryViewCount', count(when(col('event_type')=='view', col('event_type'))).over(w))"
   ]
  },
  {
   "cell_type": "code",
   "execution_count": 33,
   "metadata": {},
   "outputs": [
    {
     "data": {
      "application/vnd.jupyter.widget-view+json": {
       "model_id": "59eeddb587d04171a9cf3466a0712090",
       "version_major": 2,
       "version_minor": 0
      },
      "text/plain": [
       "VBox()"
      ]
     },
     "metadata": {},
     "output_type": "display_data"
    },
    {
     "data": {
      "application/vnd.jupyter.widget-view+json": {
       "model_id": "",
       "version_major": 2,
       "version_minor": 0
      },
      "text/plain": [
       "FloatProgress(value=0.0, bar_style='info', description='Progress:', layout=Layout(height='25px', width='50%'),…"
      ]
     },
     "metadata": {},
     "output_type": "display_data"
    }
   ],
   "source": [
    "# Average shopping expense for a product category\n",
    "# Window functions can be helpful here\n",
    "from pyspark.sql.functions import avg\n",
    "w = Window.partitionBy(df.SubCategory)\n",
    "df = df.withColumn(\"AvgSpendingOnCategoty\", avg(when(col(\"event_type\")==\"purchase\", df.price)).over(w))"
   ]
  },
  {
   "cell_type": "code",
   "execution_count": 34,
   "metadata": {},
   "outputs": [
    {
     "data": {
      "application/vnd.jupyter.widget-view+json": {
       "model_id": "eacdaa9debb24118a9c1eedbefcefe95",
       "version_major": 2,
       "version_minor": 0
      },
      "text/plain": [
       "VBox()"
      ]
     },
     "metadata": {},
     "output_type": "display_data"
    },
    {
     "data": {
      "application/vnd.jupyter.widget-view+json": {
       "model_id": "",
       "version_major": 2,
       "version_minor": 0
      },
      "text/plain": [
       "FloatProgress(value=0.0, bar_style='info', description='Progress:', layout=Layout(height='25px', width='50%'),…"
      ]
     },
     "metadata": {},
     "output_type": "display_data"
    },
    {
     "name": "stdout",
     "output_type": "stream",
     "text": [
      "+---------+----------------+\n",
      "|  user_id|NumberOfSessions|\n",
      "+---------+----------------+\n",
      "|513973242|               2|\n",
      "|512496671|               3|\n",
      "|515124387|               6|\n",
      "|540228262|              13|\n",
      "|531517576|               4|\n",
      "|515604115|              22|\n",
      "|512598373|               5|\n",
      "|522539566|              16|\n",
      "|540000378|              13|\n",
      "|518619616|               9|\n",
      "|557429591|               7|\n",
      "|529079049|              13|\n",
      "|564004534|               2|\n",
      "|514928063|               5|\n",
      "|557617569|              48|\n",
      "|529835172|               9|\n",
      "|562615028|               2|\n",
      "|517205156|               8|\n",
      "|556825423|              22|\n",
      "|513924758|               4|\n",
      "+---------+----------------+\n",
      "only showing top 20 rows"
     ]
    }
   ],
   "source": [
    "# Session count for a user\n",
    "# Window functions can be helpful here\n",
    "df.groupby('user_id').agg(countDistinct(\"user_session\")).withColumnRenamed(\"count(DISTINCT user_session)\", \"NumberOfSessions\").show()"
   ]
  },
  {
   "cell_type": "code",
   "execution_count": 35,
   "metadata": {},
   "outputs": [
    {
     "data": {
      "application/vnd.jupyter.widget-view+json": {
       "model_id": "f8dfff1e2fa34b1fa76831beaffffcd8",
       "version_major": 2,
       "version_minor": 0
      },
      "text/plain": [
       "VBox()"
      ]
     },
     "metadata": {},
     "output_type": "display_data"
    },
    {
     "data": {
      "application/vnd.jupyter.widget-view+json": {
       "model_id": "",
       "version_major": 2,
       "version_minor": 0
      },
      "text/plain": [
       "FloatProgress(value=0.0, bar_style='info', description='Progress:', layout=Layout(height='25px', width='50%'),…"
      ]
     },
     "metadata": {},
     "output_type": "display_data"
    }
   ],
   "source": [
    "# Generating the hour variable\n",
    "df = df.withColumn(\"EventHour\", hour(col('event_time')))"
   ]
  },
  {
   "cell_type": "code",
   "execution_count": 36,
   "metadata": {},
   "outputs": [
    {
     "data": {
      "application/vnd.jupyter.widget-view+json": {
       "model_id": "97b53c1f0a3c47c8abd7e53b8798aebc",
       "version_major": 2,
       "version_minor": 0
      },
      "text/plain": [
       "VBox()"
      ]
     },
     "metadata": {},
     "output_type": "display_data"
    },
    {
     "data": {
      "application/vnd.jupyter.widget-view+json": {
       "model_id": "",
       "version_major": 2,
       "version_minor": 0
      },
      "text/plain": [
       "FloatProgress(value=0.0, bar_style='info', description='Progress:', layout=Layout(height='25px', width='50%'),…"
      ]
     },
     "metadata": {},
     "output_type": "display_data"
    }
   ],
   "source": [
    "# Reduction in brands for analysis: Top 20 + ‘others'\n",
    "top_twenty = df[df[\"event_type\"]==\"purchase\"].groupby('brand').count().sort(col(\"count\").desc()).limit(20).select('brand').collect()"
   ]
  },
  {
   "cell_type": "code",
   "execution_count": 37,
   "metadata": {},
   "outputs": [
    {
     "data": {
      "application/vnd.jupyter.widget-view+json": {
       "model_id": "2777345b9d4446a9878230c2babe6a5c",
       "version_major": 2,
       "version_minor": 0
      },
      "text/plain": [
       "VBox()"
      ]
     },
     "metadata": {},
     "output_type": "display_data"
    },
    {
     "data": {
      "application/vnd.jupyter.widget-view+json": {
       "model_id": "",
       "version_major": 2,
       "version_minor": 0
      },
      "text/plain": [
       "FloatProgress(value=0.0, bar_style='info', description='Progress:', layout=Layout(height='25px', width='50%'),…"
      ]
     },
     "metadata": {},
     "output_type": "display_data"
    }
   ],
   "source": [
    "top_twenty = [row.brand for row in top_twenty]"
   ]
  },
  {
   "cell_type": "code",
   "execution_count": 38,
   "metadata": {},
   "outputs": [
    {
     "data": {
      "application/vnd.jupyter.widget-view+json": {
       "model_id": "53b390b086e441fa968ea3924c0e7a75",
       "version_major": 2,
       "version_minor": 0
      },
      "text/plain": [
       "VBox()"
      ]
     },
     "metadata": {},
     "output_type": "display_data"
    },
    {
     "data": {
      "application/vnd.jupyter.widget-view+json": {
       "model_id": "",
       "version_major": 2,
       "version_minor": 0
      },
      "text/plain": [
       "FloatProgress(value=0.0, bar_style='info', description='Progress:', layout=Layout(height='25px', width='50%'),…"
      ]
     },
     "metadata": {},
     "output_type": "display_data"
    }
   ],
   "source": [
    "df = df.withColumn(\"brand\", when(col('brand').isin(top_twenty), col('brand')).otherwise('others'))"
   ]
  },
  {
   "cell_type": "code",
   "execution_count": 39,
   "metadata": {},
   "outputs": [
    {
     "data": {
      "application/vnd.jupyter.widget-view+json": {
       "model_id": "b19a3c44d4c0451aa488b4626e9ff565",
       "version_major": 2,
       "version_minor": 0
      },
      "text/plain": [
       "VBox()"
      ]
     },
     "metadata": {},
     "output_type": "display_data"
    },
    {
     "data": {
      "application/vnd.jupyter.widget-view+json": {
       "model_id": "",
       "version_major": 2,
       "version_minor": 0
      },
      "text/plain": [
       "FloatProgress(value=0.0, bar_style='info', description='Progress:', layout=Layout(height='25px', width='50%'),…"
      ]
     },
     "metadata": {},
     "output_type": "display_data"
    }
   ],
   "source": [
    "# Generating 'is_purchased' variable\n",
    "df = df.filter(df['event_type'] !='view')\n",
    "df = df.withColumn(\"is_purchased\", when(df['event_type']=='purchase', 1).otherwise(0))\n",
    "\n",
    "from pyspark.sql.functions import max as sparkMax\n",
    "w = Window.partitionBy(df.user_session, df.product_id)\n",
    "df = df.withColumn(\"is_purchased\", sparkMax(col('is_purchased')).over(w))"
   ]
  },
  {
   "cell_type": "code",
   "execution_count": 40,
   "metadata": {},
   "outputs": [
    {
     "data": {
      "application/vnd.jupyter.widget-view+json": {
       "model_id": "537f4abfb6f54390a3e05e7d9e6cf7e7",
       "version_major": 2,
       "version_minor": 0
      },
      "text/plain": [
       "VBox()"
      ]
     },
     "metadata": {},
     "output_type": "display_data"
    },
    {
     "data": {
      "application/vnd.jupyter.widget-view+json": {
       "model_id": "",
       "version_major": 2,
       "version_minor": 0
      },
      "text/plain": [
       "FloatProgress(value=0.0, bar_style='info', description='Progress:', layout=Layout(height='25px', width='50%'),…"
      ]
     },
     "metadata": {},
     "output_type": "display_data"
    }
   ],
   "source": [
    "# Dropping redundant rows\n",
    "df = df.filter(df['event_type'] =='cart')"
   ]
  },
  {
   "cell_type": "code",
   "execution_count": 41,
   "metadata": {},
   "outputs": [
    {
     "data": {
      "application/vnd.jupyter.widget-view+json": {
       "model_id": "a09a09459b4541d6b501dac46f3209ea",
       "version_major": 2,
       "version_minor": 0
      },
      "text/plain": [
       "VBox()"
      ]
     },
     "metadata": {},
     "output_type": "display_data"
    },
    {
     "data": {
      "application/vnd.jupyter.widget-view+json": {
       "model_id": "",
       "version_major": 2,
       "version_minor": 0
      },
      "text/plain": [
       "FloatProgress(value=0.0, bar_style='info', description='Progress:', layout=Layout(height='25px', width='50%'),…"
      ]
     },
     "metadata": {},
     "output_type": "display_data"
    },
    {
     "name": "stdout",
     "output_type": "stream",
     "text": [
      "+-------------------+----------+----------+-------+-------+---------+--------------------+-----------+-----------+-------------+-----------+--------------------+---------------------+---------+------------+\n",
      "|         event_time|event_type|product_id|  brand|  price|  user_id|        user_session|   Category|SubCategory|ActivityCount|ProductView|SubCategoryViewCount|AvgSpendingOnCategoty|EventHour|is_purchased|\n",
      "+-------------------+----------+----------+-------+-------+---------+--------------------+-----------+-----------+-------------+-----------+--------------------+---------------------+---------+------------+\n",
      "|2019-10-16 12:10:16|      cart|   1004870|samsung| 287.65|552386415|0000ea0f-375d-428...|electronics| smartphone|            4|          3|                   4|   464.33546803889675|       12|           1|\n",
      "|2019-10-15 15:04:34|      cart|   1004856|samsung| 131.66|555270321|0000f9ba-8fb7-49d...|electronics| smartphone|            2|          1|                  21|   464.33546803889675|       15|           0|\n",
      "|2019-10-14 10:02:29|      cart|   1004776| xiaomi| 183.27|553453794|0002b07c-85cd-46e...|electronics| smartphone|           22|          2|                  45|   464.33546803889675|       10|           1|\n",
      "|2019-10-14 09:16:48|      cart|   1004776| xiaomi| 183.27|553453794|0002b07c-85cd-46e...|electronics| smartphone|           22|          2|                  45|   464.33546803889675|        9|           1|\n",
      "|2019-10-05 01:14:30|      cart|   1801849|samsung| 635.25|556886957|00051f0e-3d10-428...|electronics|      video|            2|          1|                   1|   390.83431563858545|        1|           0|\n",
      "|2019-10-16 13:25:51|      cart|   1004856|samsung| 131.64|543196263|000887f2-b420-4c2...|electronics| smartphone|            8|          2|                   5|   464.33546803889675|       13|           0|\n",
      "|2019-10-06 04:48:39|      cart|   4804295| xiaomi|   23.1|517168191|00111638-da4c-4a5...|electronics|      audio|            6|          7|                   7|   117.06883466566887|        4|           1|\n",
      "|2019-10-10 11:12:32|      cart|   1005115|  apple|1003.86|533307667|00127333-7942-4a4...|electronics| smartphone|            4|         11|                  85|   464.33546803889675|       11|           0|\n",
      "|2019-10-11 06:12:47|      cart|   1004873|samsung| 378.93|513260871|0014698f-1bd6-458...|electronics| smartphone|            8|          2|                  45|   464.33546803889675|        6|           1|\n",
      "|2019-10-28 09:21:41|      cart|   1004870|samsung| 278.85|552305623|00197ff4-d906-458...|electronics| smartphone|            4|         64|                 192|   464.33546803889675|        9|           1|\n",
      "|2019-10-06 14:32:27|      cart|   1004741| xiaomi| 190.97|546539446|001d6c75-8b40-49f...|electronics| smartphone|            2|         39|                  84|   464.33546803889675|       14|           0|\n",
      "|2019-10-27 06:46:09|      cart|   1004785| huawei| 256.91|512576469|001dc35f-1078-485...|electronics| smartphone|            8|         14|                  39|   464.33546803889675|        6|           0|\n",
      "|2019-10-28 11:12:13|      cart|   1004785| huawei| 256.71|565021882|001ec0f6-c3d5-4ab...|electronics| smartphone|            3|          4|                   4|   464.33546803889675|       11|           0|\n",
      "|2019-10-28 13:42:35|      cart|   4804295| xiaomi|  22.87|535927261|0027913a-52ec-4a8...|electronics|      audio|            4|          2|                   4|   117.06883466566887|       13|           1|\n",
      "|2019-10-29 06:07:41|      cart|   2501301|   beko|  195.6|512754634|002866c3-a14f-4fb...| appliances|    kitchen|           13|          7|                  11|   216.78232493179138|        6|           0|\n",
      "|2019-10-29 04:31:24|      cart|   2501301|   beko|  195.6|512754634|002866c3-a14f-4fb...| appliances|    kitchen|           13|          7|                  11|   216.78232493179138|        4|           0|\n",
      "|2019-10-21 07:41:19|      cart|   1005135|  apple| 1734.2|548274345|00287ffe-541c-4e5...|electronics| smartphone|            5|          3|                  15|   464.33546803889675|        7|           1|\n",
      "|2019-10-01 05:47:26|      cart|   1004665|samsung| 871.07|532770412|002ccd2c-50f7-412...|electronics| smartphone|           10|          3|                  11|   464.33546803889675|        5|           1|\n",
      "|2019-10-05 17:40:54|      cart|   1004839|   oppo| 178.87|513690514|002cfc74-399d-4a3...|electronics| smartphone|           11|          5|                   9|   464.33546803889675|       17|           1|\n",
      "|2019-10-05 17:38:47|      cart|   1004839|   oppo| 178.87|513690514|002cfc74-399d-4a3...|electronics| smartphone|           11|          5|                   9|   464.33546803889675|       17|           1|\n",
      "+-------------------+----------+----------+-------+-------+---------+--------------------+-----------+-----------+-------------+-----------+--------------------+---------------------+---------+------------+\n",
      "only showing top 20 rows"
     ]
    }
   ],
   "source": [
    "# Printing the top 20 rows as output\n",
    "df.show()"
   ]
  },
  {
   "cell_type": "code",
   "execution_count": 42,
   "metadata": {},
   "outputs": [
    {
     "data": {
      "application/vnd.jupyter.widget-view+json": {
       "model_id": "c59dcbe2c6da4c2fb9bc4ea85532dbdf",
       "version_major": 2,
       "version_minor": 0
      },
      "text/plain": [
       "VBox()"
      ]
     },
     "metadata": {},
     "output_type": "display_data"
    },
    {
     "data": {
      "application/vnd.jupyter.widget-view+json": {
       "model_id": "",
       "version_major": 2,
       "version_minor": 0
      },
      "text/plain": [
       "FloatProgress(value=0.0, bar_style='info', description='Progress:', layout=Layout(height='25px', width='50%'),…"
      ]
     },
     "metadata": {},
     "output_type": "display_data"
    }
   ],
   "source": [
    "# Dropping the redundant columns \n",
    "redundant_cols = [\"event_time\",\"event_type\", \"user_id\", \"user_session\",\"product_id\"]\n",
    "df = df.drop(*redundant_cols)"
   ]
  },
  {
   "cell_type": "code",
   "execution_count": 43,
   "metadata": {},
   "outputs": [
    {
     "data": {
      "application/vnd.jupyter.widget-view+json": {
       "model_id": "891476ea6ac6459b80c09dcc80978246",
       "version_major": 2,
       "version_minor": 0
      },
      "text/plain": [
       "VBox()"
      ]
     },
     "metadata": {},
     "output_type": "display_data"
    },
    {
     "data": {
      "application/vnd.jupyter.widget-view+json": {
       "model_id": "",
       "version_major": 2,
       "version_minor": 0
      },
      "text/plain": [
       "FloatProgress(value=0.0, bar_style='info', description='Progress:', layout=Layout(height='25px', width='50%'),…"
      ]
     },
     "metadata": {},
     "output_type": "display_data"
    },
    {
     "name": "stdout",
     "output_type": "stream",
     "text": [
      "['brand', 'price', 'Category', 'SubCategory', 'ActivityCount', 'ProductView', 'SubCategoryViewCount', 'AvgSpendingOnCategoty', 'EventHour', 'is_purchased']"
     ]
    }
   ],
   "source": [
    "# Check if only the required columns are present to build the model\n",
    "# If not, drop the redundant columns\n",
    "df.columns"
   ]
  },
  {
   "cell_type": "code",
   "execution_count": 42,
   "metadata": {},
   "outputs": [
    {
     "data": {
      "application/vnd.jupyter.widget-view+json": {
       "model_id": "592b7d6842d94639a0a3c93736db2765",
       "version_major": 2,
       "version_minor": 0
      },
      "text/plain": [
       "VBox()"
      ]
     },
     "metadata": {},
     "output_type": "display_data"
    },
    {
     "data": {
      "application/vnd.jupyter.widget-view+json": {
       "model_id": "",
       "version_major": 2,
       "version_minor": 0
      },
      "text/plain": [
       "FloatProgress(value=0.0, bar_style='info', description='Progress:', layout=Layout(height='25px', width='50%'),…"
      ]
     },
     "metadata": {},
     "output_type": "display_data"
    }
   ],
   "source": [
    "# Storing the transformed df in S3 bucket to prevent repetition of steps again\n",
    "df.write.csv('s3://asr-aiml-2020/processed.csv', header=True)"
   ]
  },
  {
   "cell_type": "code",
   "execution_count": 43,
   "metadata": {},
   "outputs": [
    {
     "data": {
      "application/vnd.jupyter.widget-view+json": {
       "model_id": "59f05b2d195c4056aef013de3bf08870",
       "version_major": 2,
       "version_minor": 0
      },
      "text/plain": [
       "VBox()"
      ]
     },
     "metadata": {},
     "output_type": "display_data"
    },
    {
     "data": {
      "application/vnd.jupyter.widget-view+json": {
       "model_id": "",
       "version_major": 2,
       "version_minor": 0
      },
      "text/plain": [
       "FloatProgress(value=0.0, bar_style='info', description='Progress:', layout=Layout(height='25px', width='50%'),…"
      ]
     },
     "metadata": {},
     "output_type": "display_data"
    }
   ],
   "source": [
    "df1 = spark.read.csv(\"s3://asr-aiml-2020/processed.csv\", header=True, inferSchema=True)"
   ]
  },
  {
   "cell_type": "code",
   "execution_count": 44,
   "metadata": {},
   "outputs": [
    {
     "data": {
      "application/vnd.jupyter.widget-view+json": {
       "model_id": "c17e89f4560d4d68abf333709254c0eb",
       "version_major": 2,
       "version_minor": 0
      },
      "text/plain": [
       "VBox()"
      ]
     },
     "metadata": {},
     "output_type": "display_data"
    },
    {
     "data": {
      "application/vnd.jupyter.widget-view+json": {
       "model_id": "",
       "version_major": 2,
       "version_minor": 0
      },
      "text/plain": [
       "FloatProgress(value=0.0, bar_style='info', description='Progress:', layout=Layout(height='25px', width='50%'),…"
      ]
     },
     "metadata": {},
     "output_type": "display_data"
    },
    {
     "name": "stdout",
     "output_type": "stream",
     "text": [
      "+-------+-------+------------+-----------+-------------+-----------+--------------------+---------------------+---------+------------+\n",
      "|  brand|  price|    Category|SubCategory|ActivityCount|ProductView|SubCategoryViewCount|AvgSpendingOnCategoty|EventHour|is_purchased|\n",
      "+-------+-------+------------+-----------+-------------+-----------+--------------------+---------------------+---------+------------+\n",
      "|samsung| 172.14| electronics| smartphone|            5|         10|                  76|   464.33546803888913|       22|           1|\n",
      "|samsung| 172.14| electronics| smartphone|            5|         10|                  76|   464.33546803888913|       22|           1|\n",
      "| others|  55.83|construction|      tools|            2|          1|                   1|   130.60873519227255|        9|           0|\n",
      "|samsung| 131.51| electronics| smartphone|            3|          5|                  16|   464.33546803888913|        5|           0|\n",
      "| others| 190.45| electronics|      video|           15|          5|                  13|    390.8343156385868|       16|           0|\n",
      "| huawei| 110.17| electronics| smartphone|            3|          1|                   1|   464.33546803888913|       17|           1|\n",
      "|samsung| 130.99| electronics| smartphone|            6|          3|                   3|   464.33546803888913|       15|           1|\n",
      "|samsung| 130.99| electronics| smartphone|            6|          3|                   3|   464.33546803888913|       15|           1|\n",
      "|samsung| 250.78| electronics| smartphone|            8|          1|                   4|   464.33546803888913|       10|           1|\n",
      "|  apple|1012.73| electronics| smartphone|            5|          1|                  11|   464.33546803888913|       15|           0|\n",
      "|  apple|1012.73| electronics| smartphone|            5|          1|                  11|   464.33546803888913|       15|           0|\n",
      "|samsung| 143.24| electronics| smartphone|            9|          3|                 111|   464.33546803888913|        5|           0|\n",
      "|  apple| 1174.7| electronics| smartphone|            3|          5|                  31|   464.33546803888913|        9|           0|\n",
      "|  apple| 460.11| electronics| smartphone|           10|         13|                  14|   464.33546803888913|       14|           1|\n",
      "|  apple| 460.11| electronics| smartphone|           10|         13|                  14|   464.33546803888913|       14|           1|\n",
      "|  apple| 581.12| electronics| smartphone|            9|          2|                   7|   464.33546803888913|        6|           0|\n",
      "|   acer| 434.76|   computers|   notebook|           15|          5|                   5|    575.5867938243815|       12|           1|\n",
      "|   acer| 434.76|   computers|   notebook|           15|          5|                   5|    575.5867938243815|       12|           1|\n",
      "|  apple| 766.76| electronics| smartphone|            9|          5|                  32|   464.33546803888913|       14|           0|\n",
      "|samsung| 130.99| electronics| smartphone|            3|         10|                  17|   464.33546803888913|       14|           0|\n",
      "+-------+-------+------------+-----------+-------------+-----------+--------------------+---------------------+---------+------------+\n",
      "only showing top 20 rows"
     ]
    }
   ],
   "source": [
    "df1.show()"
   ]
  },
  {
   "cell_type": "code",
   "execution_count": 38,
   "metadata": {},
   "outputs": [
    {
     "data": {
      "application/vnd.jupyter.widget-view+json": {
       "model_id": "b0cea2b416b7470eaba2fcc112abdaf2",
       "version_major": 2,
       "version_minor": 0
      },
      "text/plain": [
       "VBox()"
      ]
     },
     "metadata": {},
     "output_type": "display_data"
    },
    {
     "data": {
      "application/vnd.jupyter.widget-view+json": {
       "model_id": "",
       "version_major": 2,
       "version_minor": 0
      },
      "text/plain": [
       "FloatProgress(value=0.0, bar_style='info', description='Progress:', layout=Layout(height='25px', width='50%'),…"
      ]
     },
     "metadata": {},
     "output_type": "display_data"
    }
   ],
   "source": [
    "# Categorising the attributes into its type - Continuous and Categorical\n",
    "from pyspark.ml.feature import Bucketizer\n",
    "from pyspark.sql.types import IntegerType\n",
    "bucketizer = Bucketizer(splits=[ 0, 6, 12, 18 , 24, float('Inf') ], inputCol=\"EventHour\", outputCol=\"EventHour_Buckets\")\n",
    "df1 = bucketizer.setHandleInvalid(\"keep\").transform(df1)\n",
    "df1 = df1.withColumn(\"EventHour_Buckets\", df1[\"EventHour_Buckets\"].cast(IntegerType()))"
   ]
  },
  {
   "cell_type": "code",
   "execution_count": 39,
   "metadata": {},
   "outputs": [
    {
     "data": {
      "application/vnd.jupyter.widget-view+json": {
       "model_id": "25ef331059af40af8c7b054346b95352",
       "version_major": 2,
       "version_minor": 0
      },
      "text/plain": [
       "VBox()"
      ]
     },
     "metadata": {},
     "output_type": "display_data"
    },
    {
     "data": {
      "application/vnd.jupyter.widget-view+json": {
       "model_id": "",
       "version_major": 2,
       "version_minor": 0
      },
      "text/plain": [
       "FloatProgress(value=0.0, bar_style='info', description='Progress:', layout=Layout(height='25px', width='50%'),…"
      ]
     },
     "metadata": {},
     "output_type": "display_data"
    }
   ],
   "source": [
    "from pyspark.ml.feature import StringIndexer\n",
    "from pyspark.ml.feature import OneHotEncoderEstimator\n",
    "from pyspark.ml.feature import VectorAssembler\n",
    "from pyspark.ml import Pipeline"
   ]
  },
  {
   "cell_type": "code",
   "execution_count": 40,
   "metadata": {},
   "outputs": [
    {
     "data": {
      "application/vnd.jupyter.widget-view+json": {
       "model_id": "aebfe679763d4d0b82148a1b7bd24d1e",
       "version_major": 2,
       "version_minor": 0
      },
      "text/plain": [
       "VBox()"
      ]
     },
     "metadata": {},
     "output_type": "display_data"
    },
    {
     "data": {
      "application/vnd.jupyter.widget-view+json": {
       "model_id": "",
       "version_major": 2,
       "version_minor": 0
      },
      "text/plain": [
       "FloatProgress(value=0.0, bar_style='info', description='Progress:', layout=Layout(height='25px', width='50%'),…"
      ]
     },
     "metadata": {},
     "output_type": "display_data"
    }
   ],
   "source": [
    "# Feature transformation for categorical features\n",
    "brand_indexr = StringIndexer(inputCol='brand',   outputCol='brand_idx')   \n",
    "category_indexr = StringIndexer(inputCol='Category',   outputCol='Category_idx') \n",
    "subCat_indexr = StringIndexer(inputCol='SubCategory',   outputCol='SubCategory_idx') \n",
    "one_hot_encoder = OneHotEncoderEstimator(inputCols=['brand_idx', 'Category_idx', 'SubCategory_idx'],\n",
    "                             outputCols=['brand_Enc', 'Category_enc', 'SubCategory_enc'])\n",
    "\n",
    "# Vector assembler to combine all the features\n",
    "assembler = VectorAssembler(inputCols=['brand_Enc' ,'Category_enc', 'SubCategory_enc', 'price',\"ActivityCount\", \"ProductView\", \"SubCategoryViewCount\", \"EventHour_Buckets\", \"AvgSpendingOnCategoty\"],\n",
    "                            outputCol=\"features\")\n",
    "# Pipeline for the tasks\n",
    "pipeline = Pipeline(stages=[brand_indexr,category_indexr,subCat_indexr, one_hot_encoder, assembler])\n",
    "\n",
    "# Transforming the dataframe df\n",
    "df1 = pipeline.fit(df1).transform(df1)"
   ]
  },
  {
   "cell_type": "code",
   "execution_count": 41,
   "metadata": {},
   "outputs": [
    {
     "data": {
      "application/vnd.jupyter.widget-view+json": {
       "model_id": "fb1dc6c04f744946ae900dbf3a726611",
       "version_major": 2,
       "version_minor": 0
      },
      "text/plain": [
       "VBox()"
      ]
     },
     "metadata": {},
     "output_type": "display_data"
    },
    {
     "data": {
      "application/vnd.jupyter.widget-view+json": {
       "model_id": "",
       "version_major": 2,
       "version_minor": 0
      },
      "text/plain": [
       "FloatProgress(value=0.0, bar_style='info', description='Progress:', layout=Layout(height='25px', width='50%'),…"
      ]
     },
     "metadata": {},
     "output_type": "display_data"
    },
    {
     "name": "stdout",
     "output_type": "stream",
     "text": [
      "+-------+-------+------------+-----------+-------------+-----------+--------------------+---------------------+---------+------------+-----------------+---------+------------+---------------+--------------+--------------+---------------+--------------------+\n",
      "|  brand|  price|    Category|SubCategory|ActivityCount|ProductView|SubCategoryViewCount|AvgSpendingOnCategoty|EventHour|is_purchased|EventHour_Buckets|brand_idx|Category_idx|SubCategory_idx|     brand_Enc|  Category_enc|SubCategory_enc|            features|\n",
      "+-------+-------+------------+-----------+-------------+-----------+--------------------+---------------------+---------+------------+-----------------+---------+------------+---------------+--------------+--------------+---------------+--------------------+\n",
      "|samsung| 172.14| electronics| smartphone|            5|         10|                  76|   464.33546803887987|       22|           1|                3|      0.0|         0.0|            0.0|(20,[0],[1.0])|(12,[0],[1.0])| (37,[0],[1.0])|(75,[0,20,32,69,7...|\n",
      "|samsung| 172.14| electronics| smartphone|            5|         10|                  76|   464.33546803887987|       22|           1|                3|      0.0|         0.0|            0.0|(20,[0],[1.0])|(12,[0],[1.0])| (37,[0],[1.0])|(75,[0,20,32,69,7...|\n",
      "| others|  55.83|construction|      tools|            2|          1|                   1|    130.6087351922715|        9|           0|                1|      3.0|         4.0|            9.0|(20,[3],[1.0])|(12,[4],[1.0])| (37,[9],[1.0])|(75,[3,24,41,69,7...|\n",
      "|samsung| 131.51| electronics| smartphone|            3|          5|                  16|   464.33546803887987|        5|           0|                0|      0.0|         0.0|            0.0|(20,[0],[1.0])|(12,[0],[1.0])| (37,[0],[1.0])|(75,[0,20,32,69,7...|\n",
      "| others| 190.45| electronics|      video|           15|          5|                  13|   390.83431563858534|       16|           0|                2|      3.0|         0.0|            3.0|(20,[3],[1.0])|(12,[0],[1.0])| (37,[3],[1.0])|(75,[3,20,35,69,7...|\n",
      "| huawei| 110.17| electronics| smartphone|            3|          1|                   1|   464.33546803887987|       17|           1|                2|      4.0|         0.0|            0.0|(20,[4],[1.0])|(12,[0],[1.0])| (37,[0],[1.0])|(75,[4,20,32,69,7...|\n",
      "|samsung| 130.99| electronics| smartphone|            6|          3|                   3|   464.33546803887987|       15|           1|                2|      0.0|         0.0|            0.0|(20,[0],[1.0])|(12,[0],[1.0])| (37,[0],[1.0])|(75,[0,20,32,69,7...|\n",
      "|samsung| 130.99| electronics| smartphone|            6|          3|                   3|   464.33546803887987|       15|           1|                2|      0.0|         0.0|            0.0|(20,[0],[1.0])|(12,[0],[1.0])| (37,[0],[1.0])|(75,[0,20,32,69,7...|\n",
      "|samsung| 250.78| electronics| smartphone|            8|          1|                   4|   464.33546803887987|       10|           1|                1|      0.0|         0.0|            0.0|(20,[0],[1.0])|(12,[0],[1.0])| (37,[0],[1.0])|(75,[0,20,32,69,7...|\n",
      "|  apple|1012.73| electronics| smartphone|            5|          1|                  11|   464.33546803887987|       15|           0|                2|      1.0|         0.0|            0.0|(20,[1],[1.0])|(12,[0],[1.0])| (37,[0],[1.0])|(75,[1,20,32,69,7...|\n",
      "|  apple|1012.73| electronics| smartphone|            5|          1|                  11|   464.33546803887987|       15|           0|                2|      1.0|         0.0|            0.0|(20,[1],[1.0])|(12,[0],[1.0])| (37,[0],[1.0])|(75,[1,20,32,69,7...|\n",
      "|samsung| 143.24| electronics| smartphone|            9|          3|                 111|   464.33546803887987|        5|           0|                0|      0.0|         0.0|            0.0|(20,[0],[1.0])|(12,[0],[1.0])| (37,[0],[1.0])|(75,[0,20,32,69,7...|\n",
      "|  apple| 1174.7| electronics| smartphone|            3|          5|                  31|   464.33546803887987|        9|           0|                1|      1.0|         0.0|            0.0|(20,[1],[1.0])|(12,[0],[1.0])| (37,[0],[1.0])|(75,[1,20,32,69,7...|\n",
      "|  apple| 460.11| electronics| smartphone|           10|         13|                  14|   464.33546803887987|       14|           1|                2|      1.0|         0.0|            0.0|(20,[1],[1.0])|(12,[0],[1.0])| (37,[0],[1.0])|(75,[1,20,32,69,7...|\n",
      "|  apple| 460.11| electronics| smartphone|           10|         13|                  14|   464.33546803887987|       14|           1|                2|      1.0|         0.0|            0.0|(20,[1],[1.0])|(12,[0],[1.0])| (37,[0],[1.0])|(75,[1,20,32,69,7...|\n",
      "|  apple| 581.12| electronics| smartphone|            9|          2|                   7|   464.33546803887987|        6|           0|                1|      1.0|         0.0|            0.0|(20,[1],[1.0])|(12,[0],[1.0])| (37,[0],[1.0])|(75,[1,20,32,69,7...|\n",
      "|   acer| 434.76|   computers|   notebook|           15|          5|                   5|    575.5867938243842|       12|           1|                2|      7.0|         2.0|            6.0|(20,[7],[1.0])|(12,[2],[1.0])| (37,[6],[1.0])|(75,[7,22,38,69,7...|\n",
      "|   acer| 434.76|   computers|   notebook|           15|          5|                   5|    575.5867938243842|       12|           1|                2|      7.0|         2.0|            6.0|(20,[7],[1.0])|(12,[2],[1.0])| (37,[6],[1.0])|(75,[7,22,38,69,7...|\n",
      "|  apple| 766.76| electronics| smartphone|            9|          5|                  32|   464.33546803887987|       14|           0|                2|      1.0|         0.0|            0.0|(20,[1],[1.0])|(12,[0],[1.0])| (37,[0],[1.0])|(75,[1,20,32,69,7...|\n",
      "|samsung| 130.99| electronics| smartphone|            3|         10|                  17|   464.33546803887987|       14|           0|                2|      0.0|         0.0|            0.0|(20,[0],[1.0])|(12,[0],[1.0])| (37,[0],[1.0])|(75,[0,20,32,69,7...|\n",
      "+-------+-------+------------+-----------+-------------+-----------+--------------------+---------------------+---------+------------+-----------------+---------+------------+---------------+--------------+--------------+---------------+--------------------+\n",
      "only showing top 20 rows"
     ]
    }
   ],
   "source": [
    "# Checking the elements of the transformed df - Top 20 rows\n",
    "df1.show()"
   ]
  },
  {
   "cell_type": "code",
   "execution_count": 46,
   "metadata": {},
   "outputs": [
    {
     "data": {
      "application/vnd.jupyter.widget-view+json": {
       "model_id": "ee26c2f75a9440e5a85a34b7bb9db8b5",
       "version_major": 2,
       "version_minor": 0
      },
      "text/plain": [
       "VBox()"
      ]
     },
     "metadata": {},
     "output_type": "display_data"
    },
    {
     "data": {
      "application/vnd.jupyter.widget-view+json": {
       "model_id": "",
       "version_major": 2,
       "version_minor": 0
      },
      "text/plain": [
       "FloatProgress(value=0.0, bar_style='info', description='Progress:', layout=Layout(height='25px', width='50%'),…"
      ]
     },
     "metadata": {},
     "output_type": "display_data"
    }
   ],
   "source": [
    "df1.write.parquet(\"s3://asr-aiml-2020/processed.parquet\")"
   ]
  }
 ],
 "metadata": {
  "kernelspec": {
   "display_name": "PySpark",
   "language": "",
   "name": "pysparkkernel"
  },
  "language_info": {
   "codemirror_mode": {
    "name": "python",
    "version": 2
   },
   "mimetype": "text/x-python",
   "name": "pyspark",
   "pygments_lexer": "python2"
  }
 },
 "nbformat": 4,
 "nbformat_minor": 4
}
